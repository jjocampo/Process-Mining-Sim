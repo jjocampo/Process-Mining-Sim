{
 "cells": [
  {
   "cell_type": "markdown",
   "metadata": {},
   "source": [
    "# 1 - Config EBS with Packages"
   ]
  },
  {
   "cell_type": "markdown",
   "metadata": {},
   "source": [
    "------------"
   ]
  },
  {
   "cell_type": "code",
   "execution_count": 1,
   "metadata": {},
   "outputs": [
    {
     "name": "stdout",
     "output_type": "stream",
     "text": [
      "Collecting pm4py\n",
      "  Downloading pm4py-2.0.0-py3-none-any.whl (596 kB)\n",
      "\u001b[K     |████████████████████████████████| 596 kB 12.7 MB/s eta 0:00:01\n",
      "\u001b[?25hRequirement already satisfied: scipy in /home/ec2-user/anaconda3/envs/python3/lib/python3.6/site-packages (from pm4py) (1.4.1)\n",
      "Requirement already satisfied: matplotlib in /home/ec2-user/anaconda3/envs/python3/lib/python3.6/site-packages (from pm4py) (3.1.3)\n",
      "Requirement already satisfied: networkx in /home/ec2-user/anaconda3/envs/python3/lib/python3.6/site-packages (from pm4py) (2.4)\n",
      "Collecting graphviz\n",
      "  Downloading graphviz-0.14.2-py2.py3-none-any.whl (18 kB)\n",
      "Collecting pydotplus\n",
      "  Downloading pydotplus-2.0.2.tar.gz (278 kB)\n",
      "\u001b[K     |████████████████████████████████| 278 kB 52.5 MB/s eta 0:00:01\n",
      "\u001b[?25hRequirement already satisfied: pytz in /home/ec2-user/anaconda3/envs/python3/lib/python3.6/site-packages (from pm4py) (2019.3)\n",
      "Collecting jsonpickle\n",
      "  Downloading jsonpickle-1.4.1-py2.py3-none-any.whl (36 kB)\n",
      "Requirement already satisfied: sympy in /home/ec2-user/anaconda3/envs/python3/lib/python3.6/site-packages (from pm4py) (1.5.1)\n",
      "Collecting pm4pycvxopt>=0.0.10; python_version < \"3.9\"\n",
      "  Downloading pm4pycvxopt-0.0.10-py3-none-any.whl (18 kB)\n",
      "Requirement already satisfied: lxml in /home/ec2-user/anaconda3/envs/python3/lib/python3.6/site-packages (from pm4py) (4.5.0)\n",
      "Collecting pyvis\n",
      "  Downloading pyvis-0.1.8.2-py3-none-any.whl (22 kB)\n",
      "Collecting deprecation\n",
      "  Downloading deprecation-2.1.0-py2.py3-none-any.whl (11 kB)\n",
      "Collecting stringdist\n",
      "  Downloading StringDist-1.0.9.tar.gz (7.4 kB)\n",
      "Requirement already satisfied: pandas in /home/ec2-user/anaconda3/envs/python3/lib/python3.6/site-packages (from pm4py) (1.0.1)\n",
      "Requirement already satisfied: scikit-learn in /home/ec2-user/anaconda3/envs/python3/lib/python3.6/site-packages (from pm4py) (0.22.1)\n",
      "Requirement already satisfied: intervaltree in /home/ec2-user/anaconda3/envs/python3/lib/python3.6/site-packages (from pm4py) (3.0.2)\n",
      "Requirement already satisfied: numpy in /home/ec2-user/anaconda3/envs/python3/lib/python3.6/site-packages (from pm4py) (1.18.1)\n",
      "Collecting ciso8601; python_version < \"3.7\"\n",
      "  Downloading ciso8601-2.1.3.tar.gz (15 kB)\n",
      "Requirement already satisfied: tqdm in /home/ec2-user/anaconda3/envs/python3/lib/python3.6/site-packages (from pm4py) (4.42.1)\n",
      "Collecting pulp<=2.1\n",
      "  Downloading PuLP-2.1-py3-none-any.whl (40.6 MB)\n",
      "\u001b[K     |████████████████████████████████| 40.6 MB 183 kB/s  eta 0:00:01\n",
      "\u001b[?25hRequirement already satisfied: kiwisolver>=1.0.1 in /home/ec2-user/anaconda3/envs/python3/lib/python3.6/site-packages (from matplotlib->pm4py) (1.1.0)\n",
      "Requirement already satisfied: pyparsing!=2.0.4,!=2.1.2,!=2.1.6,>=2.0.1 in /home/ec2-user/anaconda3/envs/python3/lib/python3.6/site-packages (from matplotlib->pm4py) (2.4.6)\n",
      "Requirement already satisfied: python-dateutil>=2.1 in /home/ec2-user/anaconda3/envs/python3/lib/python3.6/site-packages (from matplotlib->pm4py) (2.8.1)\n",
      "Requirement already satisfied: cycler>=0.10 in /home/ec2-user/anaconda3/envs/python3/lib/python3.6/site-packages (from matplotlib->pm4py) (0.10.0)\n",
      "Requirement already satisfied: decorator>=4.3.0 in /home/ec2-user/anaconda3/envs/python3/lib/python3.6/site-packages (from networkx->pm4py) (4.4.1)\n",
      "Requirement already satisfied: importlib-metadata in /home/ec2-user/anaconda3/envs/python3/lib/python3.6/site-packages (from jsonpickle->pm4py) (1.5.0)\n",
      "Requirement already satisfied: mpmath>=0.19 in /home/ec2-user/anaconda3/envs/python3/lib/python3.6/site-packages (from sympy->pm4py) (1.1.0)\n",
      "Collecting cvxopt\n",
      "  Downloading cvxopt-1.2.5-cp36-cp36m-manylinux1_x86_64.whl (11.6 MB)\n",
      "\u001b[K     |████████████████████████████████| 11.6 MB 31.8 MB/s eta 0:00:01\n",
      "\u001b[?25hRequirement already satisfied: ipython>=5.3.0 in /home/ec2-user/anaconda3/envs/python3/lib/python3.6/site-packages (from pyvis->pm4py) (7.12.0)\n",
      "Requirement already satisfied: jinja2>=2.9.6 in /home/ec2-user/anaconda3/envs/python3/lib/python3.6/site-packages (from pyvis->pm4py) (2.11.1)\n",
      "Requirement already satisfied: packaging in /home/ec2-user/anaconda3/envs/python3/lib/python3.6/site-packages (from deprecation->pm4py) (20.1)\n",
      "Requirement already satisfied: joblib>=0.11 in /home/ec2-user/anaconda3/envs/python3/lib/python3.6/site-packages (from scikit-learn->pm4py) (0.14.1)\n",
      "Requirement already satisfied: sortedcontainers<3.0,>=2.0 in /home/ec2-user/anaconda3/envs/python3/lib/python3.6/site-packages (from intervaltree->pm4py) (2.1.0)\n",
      "Requirement already satisfied: setuptools in /home/ec2-user/anaconda3/envs/python3/lib/python3.6/site-packages (from kiwisolver>=1.0.1->matplotlib->pm4py) (45.2.0.post20200210)\n",
      "Requirement already satisfied: six>=1.5 in /home/ec2-user/anaconda3/envs/python3/lib/python3.6/site-packages (from python-dateutil>=2.1->matplotlib->pm4py) (1.14.0)\n",
      "Requirement already satisfied: zipp>=0.5 in /home/ec2-user/anaconda3/envs/python3/lib/python3.6/site-packages (from importlib-metadata->jsonpickle->pm4py) (2.2.0)\n",
      "Requirement already satisfied: backcall in /home/ec2-user/anaconda3/envs/python3/lib/python3.6/site-packages (from ipython>=5.3.0->pyvis->pm4py) (0.1.0)\n",
      "Requirement already satisfied: pickleshare in /home/ec2-user/anaconda3/envs/python3/lib/python3.6/site-packages (from ipython>=5.3.0->pyvis->pm4py) (0.7.5)\n",
      "Requirement already satisfied: jedi>=0.10 in /home/ec2-user/anaconda3/envs/python3/lib/python3.6/site-packages (from ipython>=5.3.0->pyvis->pm4py) (0.14.1)\n",
      "Requirement already satisfied: traitlets>=4.2 in /home/ec2-user/anaconda3/envs/python3/lib/python3.6/site-packages (from ipython>=5.3.0->pyvis->pm4py) (4.3.3)\n",
      "Requirement already satisfied: prompt-toolkit!=3.0.0,!=3.0.1,<3.1.0,>=2.0.0 in /home/ec2-user/anaconda3/envs/python3/lib/python3.6/site-packages (from ipython>=5.3.0->pyvis->pm4py) (3.0.3)\n",
      "Requirement already satisfied: pygments in /home/ec2-user/anaconda3/envs/python3/lib/python3.6/site-packages (from ipython>=5.3.0->pyvis->pm4py) (2.5.2)\n",
      "Requirement already satisfied: pexpect; sys_platform != \"win32\" in /home/ec2-user/anaconda3/envs/python3/lib/python3.6/site-packages (from ipython>=5.3.0->pyvis->pm4py) (4.8.0)\n",
      "Requirement already satisfied: MarkupSafe>=0.23 in /home/ec2-user/anaconda3/envs/python3/lib/python3.6/site-packages (from jinja2>=2.9.6->pyvis->pm4py) (1.1.1)\n",
      "Requirement already satisfied: parso>=0.5.0 in /home/ec2-user/anaconda3/envs/python3/lib/python3.6/site-packages (from jedi>=0.10->ipython>=5.3.0->pyvis->pm4py) (0.5.2)\n",
      "Requirement already satisfied: ipython-genutils in /home/ec2-user/anaconda3/envs/python3/lib/python3.6/site-packages (from traitlets>=4.2->ipython>=5.3.0->pyvis->pm4py) (0.2.0)\n",
      "Requirement already satisfied: wcwidth in /home/ec2-user/anaconda3/envs/python3/lib/python3.6/site-packages (from prompt-toolkit!=3.0.0,!=3.0.1,<3.1.0,>=2.0.0->ipython>=5.3.0->pyvis->pm4py) (0.1.8)\n",
      "Requirement already satisfied: ptyprocess>=0.5 in /home/ec2-user/anaconda3/envs/python3/lib/python3.6/site-packages (from pexpect; sys_platform != \"win32\"->ipython>=5.3.0->pyvis->pm4py) (0.6.0)\n",
      "Building wheels for collected packages: pydotplus, stringdist, ciso8601\n",
      "  Building wheel for pydotplus (setup.py) ... \u001b[?25ldone\n",
      "\u001b[?25h  Created wheel for pydotplus: filename=pydotplus-2.0.2-py3-none-any.whl size=24566 sha256=b71bcc25706b634d57be800ab328354ea23300c57fafbf21847655c59ab98027\n",
      "  Stored in directory: /home/ec2-user/.cache/pip/wheels/1f/5c/ba/f931f74fcac8f48b18ae597279203b1c1f92fc76249c2b6f66\n",
      "  Building wheel for stringdist (setup.py) ... \u001b[?25ldone\n",
      "\u001b[?25h  Created wheel for stringdist: filename=StringDist-1.0.9-cp36-cp36m-linux_x86_64.whl size=17640 sha256=eaf6605cc3141aa3366c223511c7c342365e9a7aae39568a4690e5cffd43613e\n",
      "  Stored in directory: /home/ec2-user/.cache/pip/wheels/f1/d1/a2/4f652c2109d0cf6da05c7ad12ff66f9eb159bc5391d1387316\n",
      "  Building wheel for ciso8601 (setup.py) ... \u001b[?25ldone\n",
      "\u001b[?25h  Created wheel for ciso8601: filename=ciso8601-2.1.3-cp36-cp36m-linux_x86_64.whl size=32129 sha256=2ce8a4e5c01fc58e431fc32b60964db981ac9d14273775820a7dadc0cb444fbd\n",
      "  Stored in directory: /home/ec2-user/.cache/pip/wheels/26/2a/fd/663a2fcd09041c42fd9dd5bdca263f417bb19dcca148733038\n",
      "Successfully built pydotplus stringdist ciso8601\n",
      "Installing collected packages: graphviz, pydotplus, jsonpickle, cvxopt, pm4pycvxopt, pyvis, deprecation, stringdist, ciso8601, pulp, pm4py\n",
      "Successfully installed ciso8601-2.1.3 cvxopt-1.2.5 deprecation-2.1.0 graphviz-0.14.2 jsonpickle-1.4.1 pm4py-2.0.0 pm4pycvxopt-0.0.10 pulp-2.1 pydotplus-2.0.2 pyvis-0.1.8.2 stringdist-1.0.9\n",
      "\u001b[33mWARNING: You are using pip version 20.0.2; however, version 20.2.4 is available.\n",
      "You should consider upgrading via the '/home/ec2-user/anaconda3/envs/python3/bin/python -m pip install --upgrade pip' command.\u001b[0m\n",
      "Note: you may need to restart the kernel to use updated packages.\n"
     ]
    }
   ],
   "source": [
    "pip install pm4py"
   ]
  }
 ],
 "metadata": {
  "kernelspec": {
   "display_name": "conda_python3",
   "language": "python",
   "name": "conda_python3"
  },
  "language_info": {
   "codemirror_mode": {
    "name": "ipython",
    "version": 3
   },
   "file_extension": ".py",
   "mimetype": "text/x-python",
   "name": "python",
   "nbconvert_exporter": "python",
   "pygments_lexer": "ipython3",
   "version": "3.6.10"
  }
 },
 "nbformat": 4,
 "nbformat_minor": 4
}
