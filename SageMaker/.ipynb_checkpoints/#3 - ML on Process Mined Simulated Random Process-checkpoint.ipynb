{
 "cells": [
  {
   "cell_type": "markdown",
   "metadata": {},
   "source": [
    "# <b>3 - Machine Learning Application to Process Mined Simulated Random Process for Anomaly Detection</b>"
   ]
  },
  {
   "cell_type": "markdown",
   "metadata": {},
   "source": [
    "Purpose:   \n",
    "Experiment with Process Mining to determine if feature extraction can contribute to a ML model for anomaly detection and visual representation of procecss anomalies. \n",
    "\n",
    "   \n",
    "-----"
   ]
  },
  {
   "cell_type": "markdown",
   "metadata": {},
   "source": [
    "<b>Initial Imports</b>   \n",
    "Imports for specific techniques handled later"
   ]
  },
  {
   "cell_type": "code",
   "execution_count": 2,
   "metadata": {},
   "outputs": [],
   "source": [
    "import random\n",
    "from datetime import datetime, timedelta\n",
    "import pandas as pd\n",
    "import pm4py"
   ]
  },
  {
   "cell_type": "markdown",
   "metadata": {},
   "source": [
    "-----"
   ]
  },
  {
   "cell_type": "markdown",
   "metadata": {},
   "source": [
    "## <b>Simulation</b>"
   ]
  },
  {
   "cell_type": "markdown",
   "metadata": {},
   "source": [
    "Summary of the random process:   \n",
    "There are six forms of the process flow. All begin with 'start' and all terminate with 'end'. There's an 80% chance that the process will follow the first two flows. There's a 14% chance of an approval required on a normal flow. There's a 5% chance of a special approval flow. There's a 1% chance of a process bypass. A random number is used to simulate which flow is followed.   \n",
    "10,000 simulations were completed."
   ]
  },
  {
   "cell_type": "code",
   "execution_count": 3,
   "metadata": {},
   "outputs": [],
   "source": [
    "process_scenarios = {\n",
    "                    \"a\": ['start','a','b','c','end'],\n",
    "                    \"b\": ['start','a','d','e','end'],\n",
    "                    \"c\": ['start','a','b','c','a_approval','end'],\n",
    "                    \"d\": ['start','a','d','e','b_approval','end'],\n",
    "                    \"e\": ['start','a','f','f_approval','end'],\n",
    "                    \"f\": ['start','bypass','end']\n",
    "                    }"
   ]
  },
  {
   "cell_type": "code",
   "execution_count": 4,
   "metadata": {},
   "outputs": [],
   "source": [
    "def get_action_date(f_days):\n",
    "    process_start_date = datetime(2001,1,1)\n",
    "    return process_start_date + timedelta(f_days)\n",
    "    "
   ]
  },
  {
   "cell_type": "code",
   "execution_count": 5,
   "metadata": {},
   "outputs": [],
   "source": [
    "def get_scenario(f_rand_val, f_scenarios, f_outlier):\n",
    "    if f_outlier == 0:\n",
    "        tmp_val = ''\n",
    "        tmp_val = f_scenarios['a'] if (f_rand_val <= 40) else tmp_val                              # 40% chance A\n",
    "        tmp_val = f_scenarios['b'] if (f_rand_val > 40 and f_rand_val <= 80) else tmp_val          # 40% chance B\n",
    "        tmp_val = f_scenarios['c'] if (f_rand_val > 80 and f_rand_val <= 87) else tmp_val          # 7% chance C\n",
    "        tmp_val = f_scenarios['d'] if (f_rand_val > 87 and f_rand_val <= 94) else tmp_val          # 7% chance D\n",
    "        tmp_val = f_scenarios['e'] if (f_rand_val > 94 and f_rand_val <= 99) else tmp_val          # 5% chance E\n",
    "        tmp_val = f_scenarios['f'] if (f_rand_val > 99) else tmp_val                               # 1% chance F\n",
    "    if f_outlier == 1:\n",
    "        tmp_val = ''                                                                               # 0% chance A or B\n",
    "        tmp_val = f_scenarios['c'] if (f_rand_val <= 5) else tmp_val                               # 5% chance C\n",
    "        tmp_val = f_scenarios['d'] if (f_rand_val > 5 and f_rand_val <= 10) else tmp_val           # 5% chance D\n",
    "        tmp_val = f_scenarios['e'] if (f_rand_val > 10 and f_rand_val <= 99) else tmp_val          # 89% chance E\n",
    "        tmp_val = f_scenarios['f'] if (f_rand_val > 99) else tmp_val                               # 1% chance F\n",
    "    return tmp_val"
   ]
  },
  {
   "cell_type": "code",
   "execution_count": 6,
   "metadata": {},
   "outputs": [],
   "source": [
    "def simulate_event(f_flow_id, f_date_id, f_outlier_flag):\n",
    "    rand_event = int( round( random.random() * 100 , 2))\n",
    "    tmp_date_id = f_date_id\n",
    "    flow_scenario = get_scenario( rand_event, process_scenarios ,f_outlier_flag)\n",
    "    tmp_flow = []\n",
    "    for flow in flow_scenario: \n",
    "        event_date = get_action_date(tmp_date_id)\n",
    "        tmp_date_id += 1\n",
    "        tmp_flow.append([f_flow_id, event_date.strftime('%m/%d/%Y'), flow])\n",
    "    return tmp_flow, tmp_date_id"
   ]
  },
  {
   "cell_type": "code",
   "execution_count": 7,
   "metadata": {},
   "outputs": [],
   "source": [
    "date_id = 1\n",
    "flow_id = 1\n",
    "simulation_list = []\n",
    "while flow_id < 10001:\n",
    "    if flow_id > 5000 and flow_id <= 5501: \n",
    "        outlier_flag = 1\n",
    "    else: \n",
    "        outlier_flag = 0\n",
    "    sim_flow, date_id = simulate_event(flow_id, date_id,outlier_flag)\n",
    "    for event in sim_flow:\n",
    "        simulation_list.append(event)\n",
    "    flow_id += 1"
   ]
  },
  {
   "cell_type": "code",
   "execution_count": 8,
   "metadata": {},
   "outputs": [],
   "source": [
    "simulation_df = pd.DataFrame(simulation_list)"
   ]
  },
  {
   "cell_type": "code",
   "execution_count": 9,
   "metadata": {},
   "outputs": [],
   "source": [
    "simulation_df.columns = ['flow_id','event_date','event']"
   ]
  },
  {
   "cell_type": "markdown",
   "metadata": {},
   "source": [
    "----- "
   ]
  },
  {
   "cell_type": "markdown",
   "metadata": {},
   "source": [
    "## <b>Process Mining</b>"
   ]
  },
  {
   "cell_type": "markdown",
   "metadata": {},
   "source": [
    "### <b>Process Mining Log Conversion</b>"
   ]
  },
  {
   "cell_type": "code",
   "execution_count": 10,
   "metadata": {},
   "outputs": [],
   "source": [
    "from pm4py.objects.log.util import dataframe_utils\n",
    "from pm4py.objects.conversion.log import converter as log_converter"
   ]
  },
  {
   "cell_type": "code",
   "execution_count": 11,
   "metadata": {},
   "outputs": [],
   "source": [
    "sim_event_df = dataframe_utils.convert_timestamp_columns_in_df(simulation_df)"
   ]
  },
  {
   "cell_type": "code",
   "execution_count": 12,
   "metadata": {},
   "outputs": [],
   "source": [
    "sim_event_df = sim_event_df.sort_values('event_date')"
   ]
  },
  {
   "cell_type": "code",
   "execution_count": 13,
   "metadata": {},
   "outputs": [],
   "source": [
    "sim_event_df.columns = ['case:concept:name','time:timestamp','concept:name']"
   ]
  },
  {
   "cell_type": "code",
   "execution_count": 14,
   "metadata": {},
   "outputs": [],
   "source": [
    "sim_normevent_df = sim_event_df[sim_event_df['case:concept:name'] < 5000]\n",
    "sim_outevent_df = sim_event_df[(sim_event_df['case:concept:name'] > 5000) & (sim_event_df['case:concept:name'] < 5500) ]"
   ]
  },
  {
   "cell_type": "code",
   "execution_count": 15,
   "metadata": {},
   "outputs": [],
   "source": [
    "log_util_params = {log_converter.Variants.TO_EVENT_LOG.value.Parameters.CASE_ID_KEY: 'case:concept:name'}"
   ]
  },
  {
   "cell_type": "code",
   "execution_count": 16,
   "metadata": {},
   "outputs": [],
   "source": [
    "sim_event_log = log_converter.apply(sim_event_df, parameters=log_util_params, variant=log_converter.Variants.TO_EVENT_LOG)\n",
    "sim_normevent_log = log_converter.apply(sim_normevent_df, parameters=log_util_params, variant=log_converter.Variants.TO_EVENT_LOG)\n",
    "sim_outevent_log = log_converter.apply(sim_outevent_df, parameters=log_util_params, variant=log_converter.Variants.TO_EVENT_LOG)"
   ]
  },
  {
   "cell_type": "markdown",
   "metadata": {},
   "source": [
    "### <b>Alpha Miner</b>"
   ]
  },
  {
   "cell_type": "code",
   "execution_count": 17,
   "metadata": {},
   "outputs": [],
   "source": [
    "from pm4py.algo.discovery.alpha import algorithm as alpha_miner\n",
    "from pm4py.visualization.petrinet import visualizer as pn_visualizer\n",
    "viz_params = {pn_visualizer.Variants.FREQUENCY.value.Parameters.FORMAT: \"png\"}"
   ]
  },
  {
   "cell_type": "markdown",
   "metadata": {},
   "source": [
    "To demonstrate the difference between expected normal and temporal outlier period, the process maps are visualized respectively"
   ]
  },
  {
   "cell_type": "code",
   "execution_count": 18,
   "metadata": {},
   "outputs": [],
   "source": [
    "all_net, all_initial_marking, all_final_marking = alpha_miner.apply(sim_event_log)\n",
    "norm_net, norm_initial_marking, norm_final_marking = alpha_miner.apply(sim_normevent_log)\n",
    "out_net, out_initial_marking, out_final_marking = alpha_miner.apply(sim_outevent_log)"
   ]
  },
  {
   "cell_type": "markdown",
   "metadata": {},
   "source": [
    "Expected normal flow"
   ]
  },
  {
   "cell_type": "code",
   "execution_count": 30,
   "metadata": {},
   "outputs": [
    {
     "data": {
      "image/png": "[encoded data removed]",
      "text/plain": [
       "<IPython.core.display.Image object>"
      ]
     },
     "metadata": {},
     "output_type": "display_data"
    }
   ],
   "source": [
    "norm_gviz_am = pn_visualizer.apply(norm_net, norm_initial_marking, norm_final_marking,\n",
    "                             parameters = viz_params,\n",
    "                             variant=pn_visualizer.Variants.FREQUENCY,\n",
    "                             log=sim_normevent_log)\n",
    "pn_visualizer.view(norm_gviz_am)"
   ]
  },
  {
   "cell_type": "markdown",
   "metadata": {},
   "source": [
    "Outlier flow"
   ]
  },
  {
   "cell_type": "code",
   "execution_count": 31,
   "metadata": {},
   "outputs": [
    {
     "data": {
      "image/png": "[encoded data removed]",
      "text/plain": [
       "<IPython.core.display.Image object>"
      ]
     },
     "metadata": {},
     "output_type": "display_data"
    }
   ],
   "source": [
    "out_gviz_am = pn_visualizer.apply(out_net, out_initial_marking, out_final_marking,\n",
    "                             parameters = viz_params,\n",
    "                             variant=pn_visualizer.Variants.FREQUENCY,\n",
    "                             log=sim_outevent_log)\n",
    "pn_visualizer.view(out_gviz_am)"
   ]
  },
  {
   "cell_type": "code",
   "execution_count": null,
   "metadata": {},
   "outputs": [],
   "source": [
    "from pm4py.objects.log.util import get_log_representation"
   ]
  },
  {
   "cell_type": "code",
   "execution_count": 280,
   "metadata": {},
   "outputs": [],
   "source": [
    "def neighbors_metrics(f_log):\n",
    "    \"\"\"\n",
    "    Intakes the log for a temporal window. \n",
    "    Processes case count metrics for in scope event neighbors. \n",
    "    Returns pandas dataframe. \n",
    "    \"\"\"\n",
    "    try:\n",
    "        tmp_data, tmp_feature_names = get_log_representation.get_representation(f_log, str_ev_attr=[\"case:concept:name\", \"concept:name\"],\n",
    "                                                                    str_tr_attr=[], num_ev_attr=[], num_tr_attr=[],\n",
    "                                                                    str_evsucc_attr=[\"case:concept:name\", \"concept:name\"])\n",
    "        tmp_df = pd.DataFrame(tmp_data, columns = tmp_feature_names)\n",
    "        tmp_agg = pd.DataFrame( tmp_df.sum() )\n",
    "        tmp_agg.columns = ['case_count']\n",
    "        tmp_agg = tmp_agg.iloc[tmp_agg.index.str.contains('success')]\n",
    "        tmp_agg = tmp_agg.iloc[~tmp_agg.index.str.contains('case:concept')]\n",
    "        tmp_agg.index = tmp_agg.index.str.replace('succession:concept:name@','')\n",
    "        tmp_agg.index = tmp_agg.index.str.replace('#','_to_')\n",
    "        tot_case_cnt = tmp_agg['case_count'].max()\n",
    "        tmp_agg['norm_val'] = tmp_agg.loc[:,'case_count'].apply(lambda x : x / tot_case_cnt)\n",
    "        tmp_agg = pd.DataFrame( tmp_agg.loc[~tmp_agg.index.isin(['start_to_a']), 'norm_val'] ) \n",
    "        base_neighbors_df = pd.DataFrame( [0,0,0,0,0,0,0,0,0,0,0,0,0] )\n",
    "        base_neighbors_df.index = ['a_to_b',\n",
    "         'a_to_d',\n",
    "         'a_to_f',\n",
    "         'a_approval_to_end',\n",
    "         'b_to_c',\n",
    "         'b_approval_to_end',\n",
    "         'c_to_a_approval',\n",
    "         'c_to_end',\n",
    "         'd_to_e',\n",
    "         'e_to_b_approval',\n",
    "         'e_to_end',\n",
    "         'f_to_f_approval',\n",
    "         'f_approval_to_end']\n",
    "\n",
    "        norm_merge = base_neighbors_df.merge(tmp_agg, how='left', left_index=True,right_index=True)\n",
    "        norm_merge['norm_val'] = norm_merge['norm_val'].fillna(0)\n",
    "        fnl_row = norm_merge['norm_val'].T.to_list()\n",
    "        fnl = pd.DataFrame( [fnl_row] )\n",
    "        fnl.columns = ['a_to_b',\n",
    "         'a_to_d',\n",
    "         'a_to_f',\n",
    "         'a_approval_to_end',\n",
    "         'b_to_c',\n",
    "         'b_approval_to_end',\n",
    "         'c_to_a_approval',\n",
    "         'c_to_end',\n",
    "         'd_to_e',\n",
    "         'e_to_b_approval',\n",
    "         'e_to_end',\n",
    "         'f_to_f_approval',\n",
    "         'f_approval_to_end']\n",
    "        return fnl\n",
    "    except:\n",
    "        print('Error in processing metrics')"
   ]
  },
  {
   "cell_type": "code",
   "execution_count": 243,
   "metadata": {},
   "outputs": [],
   "source": [
    "test_func = neighbors_metrics(sim_event_log)"
   ]
  },
  {
   "cell_type": "code",
   "execution_count": 244,
   "metadata": {},
   "outputs": [
    {
     "data": {
      "text/html": [
       "<div>\n",
       "<style scoped>\n",
       "    .dataframe tbody tr th:only-of-type {\n",
       "        vertical-align: middle;\n",
       "    }\n",
       "\n",
       "    .dataframe tbody tr th {\n",
       "        vertical-align: top;\n",
       "    }\n",
       "\n",
       "    .dataframe thead th {\n",
       "        text-align: right;\n",
       "    }\n",
       "</style>\n",
       "<table border=\"1\" class=\"dataframe\">\n",
       "  <thead>\n",
       "    <tr style=\"text-align: right;\">\n",
       "      <th></th>\n",
       "      <th>a_to_b</th>\n",
       "      <th>a_to_d</th>\n",
       "      <th>a_to_f</th>\n",
       "      <th>a_approval_to_end</th>\n",
       "      <th>b_to_c</th>\n",
       "      <th>b_approval_to_end</th>\n",
       "      <th>c_to_a_approval</th>\n",
       "      <th>c_to_end</th>\n",
       "      <th>d_to_e</th>\n",
       "      <th>e_to_b_approval</th>\n",
       "      <th>e_to_end</th>\n",
       "      <th>f_to_f_approval</th>\n",
       "      <th>f_approval_to_end</th>\n",
       "    </tr>\n",
       "  </thead>\n",
       "  <tbody>\n",
       "    <tr>\n",
       "      <th>0</th>\n",
       "      <td>0.4626</td>\n",
       "      <td>0.4446</td>\n",
       "      <td>0.0928</td>\n",
       "      <td>0.0701</td>\n",
       "      <td>0.4626</td>\n",
       "      <td>0.0718</td>\n",
       "      <td>0.0701</td>\n",
       "      <td>0.3925</td>\n",
       "      <td>0.4446</td>\n",
       "      <td>0.0718</td>\n",
       "      <td>0.3728</td>\n",
       "      <td>0.0928</td>\n",
       "      <td>0.0928</td>\n",
       "    </tr>\n",
       "  </tbody>\n",
       "</table>\n",
       "</div>"
      ],
      "text/plain": [
       "   a_to_b  a_to_d  a_to_f  a_approval_to_end  b_to_c  b_approval_to_end  \\\n",
       "0  0.4626  0.4446  0.0928             0.0701  0.4626             0.0718   \n",
       "\n",
       "   c_to_a_approval  c_to_end  d_to_e  e_to_b_approval  e_to_end  \\\n",
       "0           0.0701    0.3925  0.4446           0.0718    0.3728   \n",
       "\n",
       "   f_to_f_approval  f_approval_to_end  \n",
       "0           0.0928             0.0928  "
      ]
     },
     "execution_count": 244,
     "metadata": {},
     "output_type": "execute_result"
    }
   ],
   "source": [
    "test_func"
   ]
  },
  {
   "cell_type": "code",
   "execution_count": null,
   "metadata": {},
   "outputs": [],
   "source": []
  },
  {
   "cell_type": "code",
   "execution_count": 281,
   "metadata": {},
   "outputs": [],
   "source": [
    "batch_event_range = range(0,10000,100)\n",
    "results_df = pd.DataFrame(columns = ['a_to_b',\n",
    "         'a_to_d',\n",
    "         'a_to_f',\n",
    "         'a_approval_to_end',\n",
    "         'b_to_c',\n",
    "         'b_approval_to_end',\n",
    "         'c_to_a_approval',\n",
    "         'c_to_end',\n",
    "         'd_to_e',\n",
    "         'e_to_b_approval',\n",
    "         'e_to_end',\n",
    "         'f_to_f_approval',\n",
    "         'f_approval_to_end'])\n",
    "for batch in batch_event_range: \n",
    "    batch_sim_df = sim_event_df[(sim_event_df['case:concept:name'] >= batch) & (sim_event_df['case:concept:name'] < batch + 100)]\n",
    "    batch_sim_log = log_converter.apply(batch_sim_df, parameters=log_util_params, variant=log_converter.Variants.TO_EVENT_LOG)\n",
    "    batch_metrics = neighbors_metrics(batch_sim_log)\n",
    "    batch_metrics.index = [batch]\n",
    "    results_df = results_df.append(batch_metrics, ignore_index=False)"
   ]
  },
  {
   "cell_type": "code",
   "execution_count": 283,
   "metadata": {},
   "outputs": [
    {
     "data": {
      "text/html": [
       "<div>\n",
       "<style scoped>\n",
       "    .dataframe tbody tr th:only-of-type {\n",
       "        vertical-align: middle;\n",
       "    }\n",
       "\n",
       "    .dataframe tbody tr th {\n",
       "        vertical-align: top;\n",
       "    }\n",
       "\n",
       "    .dataframe thead th {\n",
       "        text-align: right;\n",
       "    }\n",
       "</style>\n",
       "<table border=\"1\" class=\"dataframe\">\n",
       "  <thead>\n",
       "    <tr style=\"text-align: right;\">\n",
       "      <th></th>\n",
       "      <th>a_to_b</th>\n",
       "      <th>a_to_d</th>\n",
       "      <th>a_to_f</th>\n",
       "      <th>a_approval_to_end</th>\n",
       "      <th>b_to_c</th>\n",
       "      <th>b_approval_to_end</th>\n",
       "      <th>c_to_a_approval</th>\n",
       "      <th>c_to_end</th>\n",
       "      <th>d_to_e</th>\n",
       "      <th>e_to_b_approval</th>\n",
       "      <th>e_to_end</th>\n",
       "      <th>f_to_f_approval</th>\n",
       "      <th>f_approval_to_end</th>\n",
       "    </tr>\n",
       "  </thead>\n",
       "  <tbody>\n",
       "    <tr>\n",
       "      <th>0</th>\n",
       "      <td>0.545455</td>\n",
       "      <td>0.383838</td>\n",
       "      <td>0.070707</td>\n",
       "      <td>0.080808</td>\n",
       "      <td>0.545455</td>\n",
       "      <td>0.070707</td>\n",
       "      <td>0.080808</td>\n",
       "      <td>0.464646</td>\n",
       "      <td>0.383838</td>\n",
       "      <td>0.070707</td>\n",
       "      <td>0.313131</td>\n",
       "      <td>0.070707</td>\n",
       "      <td>0.070707</td>\n",
       "    </tr>\n",
       "    <tr>\n",
       "      <th>100</th>\n",
       "      <td>0.440000</td>\n",
       "      <td>0.530000</td>\n",
       "      <td>0.030000</td>\n",
       "      <td>0.050000</td>\n",
       "      <td>0.440000</td>\n",
       "      <td>0.120000</td>\n",
       "      <td>0.050000</td>\n",
       "      <td>0.390000</td>\n",
       "      <td>0.530000</td>\n",
       "      <td>0.120000</td>\n",
       "      <td>0.410000</td>\n",
       "      <td>0.030000</td>\n",
       "      <td>0.030000</td>\n",
       "    </tr>\n",
       "    <tr>\n",
       "      <th>200</th>\n",
       "      <td>0.480000</td>\n",
       "      <td>0.450000</td>\n",
       "      <td>0.070000</td>\n",
       "      <td>0.070000</td>\n",
       "      <td>0.480000</td>\n",
       "      <td>0.050000</td>\n",
       "      <td>0.070000</td>\n",
       "      <td>0.410000</td>\n",
       "      <td>0.450000</td>\n",
       "      <td>0.050000</td>\n",
       "      <td>0.400000</td>\n",
       "      <td>0.070000</td>\n",
       "      <td>0.070000</td>\n",
       "    </tr>\n",
       "    <tr>\n",
       "      <th>300</th>\n",
       "      <td>0.560000</td>\n",
       "      <td>0.410000</td>\n",
       "      <td>0.030000</td>\n",
       "      <td>0.080000</td>\n",
       "      <td>0.560000</td>\n",
       "      <td>0.060000</td>\n",
       "      <td>0.080000</td>\n",
       "      <td>0.480000</td>\n",
       "      <td>0.410000</td>\n",
       "      <td>0.060000</td>\n",
       "      <td>0.350000</td>\n",
       "      <td>0.030000</td>\n",
       "      <td>0.030000</td>\n",
       "    </tr>\n",
       "    <tr>\n",
       "      <th>400</th>\n",
       "      <td>0.440000</td>\n",
       "      <td>0.540000</td>\n",
       "      <td>0.020000</td>\n",
       "      <td>0.080000</td>\n",
       "      <td>0.440000</td>\n",
       "      <td>0.090000</td>\n",
       "      <td>0.080000</td>\n",
       "      <td>0.360000</td>\n",
       "      <td>0.540000</td>\n",
       "      <td>0.090000</td>\n",
       "      <td>0.450000</td>\n",
       "      <td>0.020000</td>\n",
       "      <td>0.020000</td>\n",
       "    </tr>\n",
       "  </tbody>\n",
       "</table>\n",
       "</div>"
      ],
      "text/plain": [
       "       a_to_b    a_to_d    a_to_f  a_approval_to_end    b_to_c  \\\n",
       "0    0.545455  0.383838  0.070707           0.080808  0.545455   \n",
       "100  0.440000  0.530000  0.030000           0.050000  0.440000   \n",
       "200  0.480000  0.450000  0.070000           0.070000  0.480000   \n",
       "300  0.560000  0.410000  0.030000           0.080000  0.560000   \n",
       "400  0.440000  0.540000  0.020000           0.080000  0.440000   \n",
       "\n",
       "     b_approval_to_end  c_to_a_approval  c_to_end    d_to_e  e_to_b_approval  \\\n",
       "0             0.070707         0.080808  0.464646  0.383838         0.070707   \n",
       "100           0.120000         0.050000  0.390000  0.530000         0.120000   \n",
       "200           0.050000         0.070000  0.410000  0.450000         0.050000   \n",
       "300           0.060000         0.080000  0.480000  0.410000         0.060000   \n",
       "400           0.090000         0.080000  0.360000  0.540000         0.090000   \n",
       "\n",
       "     e_to_end  f_to_f_approval  f_approval_to_end  \n",
       "0    0.313131         0.070707           0.070707  \n",
       "100  0.410000         0.030000           0.030000  \n",
       "200  0.400000         0.070000           0.070000  \n",
       "300  0.350000         0.030000           0.030000  \n",
       "400  0.450000         0.020000           0.020000  "
      ]
     },
     "execution_count": 283,
     "metadata": {},
     "output_type": "execute_result"
    }
   ],
   "source": [
    "results_df.head()"
   ]
  },
  {
   "cell_type": "code",
   "execution_count": 282,
   "metadata": {},
   "outputs": [
    {
     "data": {
      "text/html": [
       "<div>\n",
       "<style scoped>\n",
       "    .dataframe tbody tr th:only-of-type {\n",
       "        vertical-align: middle;\n",
       "    }\n",
       "\n",
       "    .dataframe tbody tr th {\n",
       "        vertical-align: top;\n",
       "    }\n",
       "\n",
       "    .dataframe thead th {\n",
       "        text-align: right;\n",
       "    }\n",
       "</style>\n",
       "<table border=\"1\" class=\"dataframe\">\n",
       "  <thead>\n",
       "    <tr style=\"text-align: right;\">\n",
       "      <th></th>\n",
       "      <th>a_to_b</th>\n",
       "      <th>a_to_d</th>\n",
       "      <th>a_to_f</th>\n",
       "      <th>a_approval_to_end</th>\n",
       "      <th>b_to_c</th>\n",
       "      <th>b_approval_to_end</th>\n",
       "      <th>c_to_a_approval</th>\n",
       "      <th>c_to_end</th>\n",
       "      <th>d_to_e</th>\n",
       "      <th>e_to_b_approval</th>\n",
       "      <th>e_to_end</th>\n",
       "      <th>f_to_f_approval</th>\n",
       "      <th>f_approval_to_end</th>\n",
       "    </tr>\n",
       "  </thead>\n",
       "  <tbody>\n",
       "    <tr>\n",
       "      <th>5000</th>\n",
       "      <td>0.03</td>\n",
       "      <td>0.03</td>\n",
       "      <td>0.94</td>\n",
       "      <td>0.03</td>\n",
       "      <td>0.03</td>\n",
       "      <td>0.03</td>\n",
       "      <td>0.03</td>\n",
       "      <td>0.0</td>\n",
       "      <td>0.03</td>\n",
       "      <td>0.03</td>\n",
       "      <td>0.0</td>\n",
       "      <td>0.94</td>\n",
       "      <td>0.94</td>\n",
       "    </tr>\n",
       "  </tbody>\n",
       "</table>\n",
       "</div>"
      ],
      "text/plain": [
       "      a_to_b  a_to_d  a_to_f  a_approval_to_end  b_to_c  b_approval_to_end  \\\n",
       "5000    0.03    0.03    0.94               0.03    0.03               0.03   \n",
       "\n",
       "      c_to_a_approval  c_to_end  d_to_e  e_to_b_approval  e_to_end  \\\n",
       "5000             0.03       0.0    0.03             0.03       0.0   \n",
       "\n",
       "      f_to_f_approval  f_approval_to_end  \n",
       "5000             0.94               0.94  "
      ]
     },
     "execution_count": 282,
     "metadata": {},
     "output_type": "execute_result"
    }
   ],
   "source": [
    "results_df.iloc[ results_df.index == 5000]"
   ]
  },
  {
   "cell_type": "code",
   "execution_count": null,
   "metadata": {},
   "outputs": [],
   "source": []
  },
  {
   "cell_type": "code",
   "execution_count": null,
   "metadata": {},
   "outputs": [],
   "source": []
  },
  {
   "cell_type": "code",
   "execution_count": null,
   "metadata": {},
   "outputs": [],
   "source": []
  },
  {
   "cell_type": "code",
   "execution_count": 19,
   "metadata": {},
   "outputs": [],
   "source": [
    "from pm4py.objects.log.util import get_log_representation"
   ]
  },
  {
   "cell_type": "code",
   "execution_count": 90,
   "metadata": {},
   "outputs": [],
   "source": [
    "data, feature_names = get_log_representation.get_representation(sim_event_log, str_ev_attr=[\"case:concept:name\", \"concept:name\"],\n",
    "                                                                str_tr_attr=[], num_ev_attr=[], num_tr_attr=[],\n",
    "                                                                str_evsucc_attr=[\"case:concept:name\", \"concept:name\"])"
   ]
  },
  {
   "cell_type": "code",
   "execution_count": 91,
   "metadata": {},
   "outputs": [],
   "source": [
    "test_df2 = pd.DataFrame(data, columns = feature_names)"
   ]
  },
  {
   "cell_type": "code",
   "execution_count": 157,
   "metadata": {},
   "outputs": [],
   "source": [
    "test_agg = pd.DataFrame( test_df2.sum() )"
   ]
  },
  {
   "cell_type": "code",
   "execution_count": 158,
   "metadata": {},
   "outputs": [],
   "source": [
    "test_agg.columns = ['case_count']"
   ]
  },
  {
   "cell_type": "code",
   "execution_count": 159,
   "metadata": {},
   "outputs": [],
   "source": [
    "test_agg = test_agg.iloc[test_agg.index.str.contains('success')]"
   ]
  },
  {
   "cell_type": "code",
   "execution_count": 160,
   "metadata": {},
   "outputs": [],
   "source": [
    "test_agg  = test_agg.iloc[~test_agg.index.str.contains('case:concept')]"
   ]
  },
  {
   "cell_type": "code",
   "execution_count": 161,
   "metadata": {},
   "outputs": [],
   "source": [
    "test_agg.index = test_agg.index.str.replace('succession:concept:name@','')"
   ]
  },
  {
   "cell_type": "code",
   "execution_count": 162,
   "metadata": {},
   "outputs": [],
   "source": [
    "test_agg.index = test_agg.index.str.replace('#','_to_')"
   ]
  },
  {
   "cell_type": "code",
   "execution_count": 163,
   "metadata": {},
   "outputs": [],
   "source": [
    "tot_case_cnt = test_agg['case_count'].max()\n",
    "test_agg['norm_val'] = test_agg.loc[:,'case_count'].apply(lambda x : x / tot_case_cnt)"
   ]
  },
  {
   "cell_type": "code",
   "execution_count": 164,
   "metadata": {},
   "outputs": [
    {
     "data": {
      "text/html": [
       "<div>\n",
       "<style scoped>\n",
       "    .dataframe tbody tr th:only-of-type {\n",
       "        vertical-align: middle;\n",
       "    }\n",
       "\n",
       "    .dataframe tbody tr th {\n",
       "        vertical-align: top;\n",
       "    }\n",
       "\n",
       "    .dataframe thead th {\n",
       "        text-align: right;\n",
       "    }\n",
       "</style>\n",
       "<table border=\"1\" class=\"dataframe\">\n",
       "  <thead>\n",
       "    <tr style=\"text-align: right;\">\n",
       "      <th></th>\n",
       "      <th>case_count</th>\n",
       "      <th>norm_val</th>\n",
       "    </tr>\n",
       "  </thead>\n",
       "  <tbody>\n",
       "    <tr>\n",
       "      <th>a_to_b</th>\n",
       "      <td>4626</td>\n",
       "      <td>0.4626</td>\n",
       "    </tr>\n",
       "    <tr>\n",
       "      <th>a_to_d</th>\n",
       "      <td>4446</td>\n",
       "      <td>0.4446</td>\n",
       "    </tr>\n",
       "    <tr>\n",
       "      <th>a_to_f</th>\n",
       "      <td>928</td>\n",
       "      <td>0.0928</td>\n",
       "    </tr>\n",
       "    <tr>\n",
       "      <th>a_approval_to_end</th>\n",
       "      <td>701</td>\n",
       "      <td>0.0701</td>\n",
       "    </tr>\n",
       "    <tr>\n",
       "      <th>b_to_c</th>\n",
       "      <td>4626</td>\n",
       "      <td>0.4626</td>\n",
       "    </tr>\n",
       "    <tr>\n",
       "      <th>b_approval_to_end</th>\n",
       "      <td>718</td>\n",
       "      <td>0.0718</td>\n",
       "    </tr>\n",
       "    <tr>\n",
       "      <th>c_to_a_approval</th>\n",
       "      <td>701</td>\n",
       "      <td>0.0701</td>\n",
       "    </tr>\n",
       "    <tr>\n",
       "      <th>c_to_end</th>\n",
       "      <td>3925</td>\n",
       "      <td>0.3925</td>\n",
       "    </tr>\n",
       "    <tr>\n",
       "      <th>d_to_e</th>\n",
       "      <td>4446</td>\n",
       "      <td>0.4446</td>\n",
       "    </tr>\n",
       "    <tr>\n",
       "      <th>e_to_b_approval</th>\n",
       "      <td>718</td>\n",
       "      <td>0.0718</td>\n",
       "    </tr>\n",
       "    <tr>\n",
       "      <th>e_to_end</th>\n",
       "      <td>3728</td>\n",
       "      <td>0.3728</td>\n",
       "    </tr>\n",
       "    <tr>\n",
       "      <th>f_to_f_approval</th>\n",
       "      <td>928</td>\n",
       "      <td>0.0928</td>\n",
       "    </tr>\n",
       "    <tr>\n",
       "      <th>f_approval_to_end</th>\n",
       "      <td>928</td>\n",
       "      <td>0.0928</td>\n",
       "    </tr>\n",
       "    <tr>\n",
       "      <th>start_to_a</th>\n",
       "      <td>10000</td>\n",
       "      <td>1.0000</td>\n",
       "    </tr>\n",
       "  </tbody>\n",
       "</table>\n",
       "</div>"
      ],
      "text/plain": [
       "                   case_count  norm_val\n",
       "a_to_b                   4626    0.4626\n",
       "a_to_d                   4446    0.4446\n",
       "a_to_f                    928    0.0928\n",
       "a_approval_to_end         701    0.0701\n",
       "b_to_c                   4626    0.4626\n",
       "b_approval_to_end         718    0.0718\n",
       "c_to_a_approval           701    0.0701\n",
       "c_to_end                 3925    0.3925\n",
       "d_to_e                   4446    0.4446\n",
       "e_to_b_approval           718    0.0718\n",
       "e_to_end                 3728    0.3728\n",
       "f_to_f_approval           928    0.0928\n",
       "f_approval_to_end         928    0.0928\n",
       "start_to_a              10000    1.0000"
      ]
     },
     "execution_count": 164,
     "metadata": {},
     "output_type": "execute_result"
    }
   ],
   "source": [
    "test_agg"
   ]
  },
  {
   "cell_type": "code",
   "execution_count": null,
   "metadata": {},
   "outputs": [],
   "source": []
  },
  {
   "cell_type": "code",
   "execution_count": 165,
   "metadata": {},
   "outputs": [],
   "source": [
    "test_agg2 = pd.DataFrame( test_agg.loc[~test_agg.index.isin(['start_to_a']), 'norm_val'] ) "
   ]
  },
  {
   "cell_type": "code",
   "execution_count": 166,
   "metadata": {},
   "outputs": [
    {
     "data": {
      "text/html": [
       "<div>\n",
       "<style scoped>\n",
       "    .dataframe tbody tr th:only-of-type {\n",
       "        vertical-align: middle;\n",
       "    }\n",
       "\n",
       "    .dataframe tbody tr th {\n",
       "        vertical-align: top;\n",
       "    }\n",
       "\n",
       "    .dataframe thead th {\n",
       "        text-align: right;\n",
       "    }\n",
       "</style>\n",
       "<table border=\"1\" class=\"dataframe\">\n",
       "  <thead>\n",
       "    <tr style=\"text-align: right;\">\n",
       "      <th></th>\n",
       "      <th>norm_val</th>\n",
       "    </tr>\n",
       "  </thead>\n",
       "  <tbody>\n",
       "    <tr>\n",
       "      <th>a_to_b</th>\n",
       "      <td>0.4626</td>\n",
       "    </tr>\n",
       "    <tr>\n",
       "      <th>a_to_d</th>\n",
       "      <td>0.4446</td>\n",
       "    </tr>\n",
       "    <tr>\n",
       "      <th>a_to_f</th>\n",
       "      <td>0.0928</td>\n",
       "    </tr>\n",
       "    <tr>\n",
       "      <th>a_approval_to_end</th>\n",
       "      <td>0.0701</td>\n",
       "    </tr>\n",
       "    <tr>\n",
       "      <th>b_to_c</th>\n",
       "      <td>0.4626</td>\n",
       "    </tr>\n",
       "    <tr>\n",
       "      <th>b_approval_to_end</th>\n",
       "      <td>0.0718</td>\n",
       "    </tr>\n",
       "    <tr>\n",
       "      <th>c_to_a_approval</th>\n",
       "      <td>0.0701</td>\n",
       "    </tr>\n",
       "    <tr>\n",
       "      <th>c_to_end</th>\n",
       "      <td>0.3925</td>\n",
       "    </tr>\n",
       "    <tr>\n",
       "      <th>d_to_e</th>\n",
       "      <td>0.4446</td>\n",
       "    </tr>\n",
       "    <tr>\n",
       "      <th>e_to_b_approval</th>\n",
       "      <td>0.0718</td>\n",
       "    </tr>\n",
       "    <tr>\n",
       "      <th>e_to_end</th>\n",
       "      <td>0.3728</td>\n",
       "    </tr>\n",
       "    <tr>\n",
       "      <th>f_to_f_approval</th>\n",
       "      <td>0.0928</td>\n",
       "    </tr>\n",
       "    <tr>\n",
       "      <th>f_approval_to_end</th>\n",
       "      <td>0.0928</td>\n",
       "    </tr>\n",
       "  </tbody>\n",
       "</table>\n",
       "</div>"
      ],
      "text/plain": [
       "                   norm_val\n",
       "a_to_b               0.4626\n",
       "a_to_d               0.4446\n",
       "a_to_f               0.0928\n",
       "a_approval_to_end    0.0701\n",
       "b_to_c               0.4626\n",
       "b_approval_to_end    0.0718\n",
       "c_to_a_approval      0.0701\n",
       "c_to_end             0.3925\n",
       "d_to_e               0.4446\n",
       "e_to_b_approval      0.0718\n",
       "e_to_end             0.3728\n",
       "f_to_f_approval      0.0928\n",
       "f_approval_to_end    0.0928"
      ]
     },
     "execution_count": 166,
     "metadata": {},
     "output_type": "execute_result"
    }
   ],
   "source": [
    "test_agg2"
   ]
  },
  {
   "cell_type": "code",
   "execution_count": 173,
   "metadata": {},
   "outputs": [
    {
     "data": {
      "text/plain": [
       "['a_to_b',\n",
       " 'a_to_d',\n",
       " 'a_to_f',\n",
       " 'a_approval_to_end',\n",
       " 'b_to_c',\n",
       " 'b_approval_to_end',\n",
       " 'c_to_a_approval',\n",
       " 'c_to_end',\n",
       " 'd_to_e',\n",
       " 'e_to_b_approval',\n",
       " 'e_to_end',\n",
       " 'f_to_f_approval',\n",
       " 'f_approval_to_end']"
      ]
     },
     "execution_count": 173,
     "metadata": {},
     "output_type": "execute_result"
    }
   ],
   "source": [
    "test_agg2.index.to_list()"
   ]
  },
  {
   "cell_type": "code",
   "execution_count": 167,
   "metadata": {},
   "outputs": [],
   "source": [
    "base_neighbors_df = pd.DataFrame( [0,0,0,0,0,0,0,0,0,0,0,0,0] )"
   ]
  },
  {
   "cell_type": "code",
   "execution_count": 174,
   "metadata": {},
   "outputs": [],
   "source": [
    "base_neighbors_df.index = ['a_to_b',\n",
    " 'a_to_d',\n",
    " 'a_to_f',\n",
    " 'a_approval_to_end',\n",
    " 'b_to_c',\n",
    " 'b_approval_to_end',\n",
    " 'c_to_a_approval',\n",
    " 'c_to_end',\n",
    " 'd_to_e',\n",
    " 'e_to_b_approval',\n",
    " 'e_to_end',\n",
    " 'f_to_f_approval',\n",
    " 'f_approval_to_end']"
   ]
  },
  {
   "cell_type": "code",
   "execution_count": 175,
   "metadata": {},
   "outputs": [],
   "source": [
    "norm_merge = base_neighbors_df.merge(test_agg2, how='left', left_index=True,right_index=True)"
   ]
  },
  {
   "cell_type": "code",
   "execution_count": 177,
   "metadata": {},
   "outputs": [],
   "source": [
    "norm_merge['norm_val'] = norm_merge['norm_val'].fillna(0)"
   ]
  },
  {
   "cell_type": "code",
   "execution_count": 178,
   "metadata": {},
   "outputs": [],
   "source": [
    "fnl_row = norm_merge['norm_val'].T.to_list()"
   ]
  },
  {
   "cell_type": "code",
   "execution_count": 179,
   "metadata": {},
   "outputs": [
    {
     "data": {
      "text/plain": [
       "[0.4626,\n",
       " 0.4446,\n",
       " 0.0928,\n",
       " 0.0701,\n",
       " 0.4626,\n",
       " 0.0718,\n",
       " 0.0701,\n",
       " 0.3925,\n",
       " 0.4446,\n",
       " 0.0718,\n",
       " 0.3728,\n",
       " 0.0928,\n",
       " 0.0928]"
      ]
     },
     "execution_count": 179,
     "metadata": {},
     "output_type": "execute_result"
    }
   ],
   "source": [
    "fnl_row"
   ]
  },
  {
   "cell_type": "code",
   "execution_count": null,
   "metadata": {},
   "outputs": [],
   "source": []
  },
  {
   "cell_type": "code",
   "execution_count": 180,
   "metadata": {},
   "outputs": [],
   "source": [
    "test_format = []"
   ]
  },
  {
   "cell_type": "code",
   "execution_count": 185,
   "metadata": {},
   "outputs": [],
   "source": [
    "test_format.append([3,fnl_row])"
   ]
  },
  {
   "cell_type": "code",
   "execution_count": 186,
   "metadata": {},
   "outputs": [],
   "source": [
    "test_format2 = pd.DataFrame(test_format)"
   ]
  },
  {
   "cell_type": "code",
   "execution_count": 187,
   "metadata": {},
   "outputs": [
    {
     "data": {
      "text/html": [
       "<div>\n",
       "<style scoped>\n",
       "    .dataframe tbody tr th:only-of-type {\n",
       "        vertical-align: middle;\n",
       "    }\n",
       "\n",
       "    .dataframe tbody tr th {\n",
       "        vertical-align: top;\n",
       "    }\n",
       "\n",
       "    .dataframe thead th {\n",
       "        text-align: right;\n",
       "    }\n",
       "</style>\n",
       "<table border=\"1\" class=\"dataframe\">\n",
       "  <thead>\n",
       "    <tr style=\"text-align: right;\">\n",
       "      <th></th>\n",
       "      <th>0</th>\n",
       "      <th>1</th>\n",
       "    </tr>\n",
       "  </thead>\n",
       "  <tbody>\n",
       "    <tr>\n",
       "      <th>0</th>\n",
       "      <td>1</td>\n",
       "      <td>[0.4626, 0.4446, 0.0928, 0.0701, 0.4626, 0.071...</td>\n",
       "    </tr>\n",
       "    <tr>\n",
       "      <th>1</th>\n",
       "      <td>2</td>\n",
       "      <td>[0.4626, 0.4446, 0.0928, 0.0701, 0.4626, 0.071...</td>\n",
       "    </tr>\n",
       "    <tr>\n",
       "      <th>2</th>\n",
       "      <td>3</td>\n",
       "      <td>[0.4626, 0.4446, 0.0928, 0.0701, 0.4626, 0.071...</td>\n",
       "    </tr>\n",
       "  </tbody>\n",
       "</table>\n",
       "</div>"
      ],
      "text/plain": [
       "   0                                                  1\n",
       "0  1  [0.4626, 0.4446, 0.0928, 0.0701, 0.4626, 0.071...\n",
       "1  2  [0.4626, 0.4446, 0.0928, 0.0701, 0.4626, 0.071...\n",
       "2  3  [0.4626, 0.4446, 0.0928, 0.0701, 0.4626, 0.071..."
      ]
     },
     "execution_count": 187,
     "metadata": {},
     "output_type": "execute_result"
    }
   ],
   "source": [
    "test_format2"
   ]
  },
  {
   "cell_type": "code",
   "execution_count": null,
   "metadata": {},
   "outputs": [],
   "source": []
  },
  {
   "cell_type": "code",
   "execution_count": null,
   "metadata": {},
   "outputs": [],
   "source": []
  },
  {
   "cell_type": "code",
   "execution_count": null,
   "metadata": {},
   "outputs": [],
   "source": []
  },
  {
   "cell_type": "code",
   "execution_count": 80,
   "metadata": {},
   "outputs": [],
   "source": [
    "test_agg3 = test_agg2.T"
   ]
  },
  {
   "cell_type": "code",
   "execution_count": 82,
   "metadata": {},
   "outputs": [
    {
     "data": {
      "text/html": [
       "<div>\n",
       "<style scoped>\n",
       "    .dataframe tbody tr th:only-of-type {\n",
       "        vertical-align: middle;\n",
       "    }\n",
       "\n",
       "    .dataframe tbody tr th {\n",
       "        vertical-align: top;\n",
       "    }\n",
       "\n",
       "    .dataframe thead th {\n",
       "        text-align: right;\n",
       "    }\n",
       "</style>\n",
       "<table border=\"1\" class=\"dataframe\">\n",
       "  <thead>\n",
       "    <tr style=\"text-align: right;\">\n",
       "      <th></th>\n",
       "      <th>a_approval</th>\n",
       "      <th>b</th>\n",
       "      <th>b_approval</th>\n",
       "      <th>c</th>\n",
       "      <th>d</th>\n",
       "      <th>e</th>\n",
       "      <th>f</th>\n",
       "      <th>f_approval</th>\n",
       "    </tr>\n",
       "  </thead>\n",
       "  <tbody>\n",
       "    <tr>\n",
       "      <th>norm_val</th>\n",
       "      <td>0.0701</td>\n",
       "      <td>0.4626</td>\n",
       "      <td>0.0718</td>\n",
       "      <td>0.4626</td>\n",
       "      <td>0.4446</td>\n",
       "      <td>0.4446</td>\n",
       "      <td>0.0928</td>\n",
       "      <td>0.0928</td>\n",
       "    </tr>\n",
       "  </tbody>\n",
       "</table>\n",
       "</div>"
      ],
      "text/plain": [
       "          a_approval       b  b_approval       c       d       e       f  \\\n",
       "norm_val      0.0701  0.4626      0.0718  0.4626  0.4446  0.4446  0.0928   \n",
       "\n",
       "          f_approval  \n",
       "norm_val      0.0928  "
      ]
     },
     "execution_count": 82,
     "metadata": {},
     "output_type": "execute_result"
    }
   ],
   "source": [
    "test_agg3"
   ]
  },
  {
   "cell_type": "code",
   "execution_count": null,
   "metadata": {},
   "outputs": [],
   "source": []
  },
  {
   "cell_type": "code",
   "execution_count": 89,
   "metadata": {},
   "outputs": [],
   "source": [
    "base_event_df = pd.DataFrame([0,0,0,0,0,0,0,0])"
   ]
  },
  {
   "cell_type": "code",
   "execution_count": 87,
   "metadata": {},
   "outputs": [],
   "source": [
    "base_event_df.columns = ['a_approval','b','b_approval','c','d','e','f','f_approval']"
   ]
  },
  {
   "cell_type": "code",
   "execution_count": 88,
   "metadata": {},
   "outputs": [
    {
     "data": {
      "text/html": [
       "<div>\n",
       "<style scoped>\n",
       "    .dataframe tbody tr th:only-of-type {\n",
       "        vertical-align: middle;\n",
       "    }\n",
       "\n",
       "    .dataframe tbody tr th {\n",
       "        vertical-align: top;\n",
       "    }\n",
       "\n",
       "    .dataframe thead th {\n",
       "        text-align: right;\n",
       "    }\n",
       "</style>\n",
       "<table border=\"1\" class=\"dataframe\">\n",
       "  <thead>\n",
       "    <tr style=\"text-align: right;\">\n",
       "      <th></th>\n",
       "      <th>a_approval</th>\n",
       "      <th>b</th>\n",
       "      <th>b_approval</th>\n",
       "      <th>c</th>\n",
       "      <th>d</th>\n",
       "      <th>e</th>\n",
       "      <th>f</th>\n",
       "      <th>f_approval</th>\n",
       "    </tr>\n",
       "  </thead>\n",
       "  <tbody>\n",
       "    <tr>\n",
       "      <th>0</th>\n",
       "      <td>0</td>\n",
       "      <td>0</td>\n",
       "      <td>0</td>\n",
       "      <td>0</td>\n",
       "      <td>0</td>\n",
       "      <td>0</td>\n",
       "      <td>0</td>\n",
       "      <td>0</td>\n",
       "    </tr>\n",
       "  </tbody>\n",
       "</table>\n",
       "</div>"
      ],
      "text/plain": [
       "   a_approval  b  b_approval  c  d  e  f  f_approval\n",
       "0           0  0           0  0  0  0  0           0"
      ]
     },
     "execution_count": 88,
     "metadata": {},
     "output_type": "execute_result"
    }
   ],
   "source": [
    "base_event_df"
   ]
  },
  {
   "cell_type": "code",
   "execution_count": 86,
   "metadata": {},
   "outputs": [
    {
     "data": {
      "text/plain": [
       "(1, 8)"
      ]
     },
     "execution_count": 86,
     "metadata": {},
     "output_type": "execute_result"
    }
   ],
   "source": [
    "base_event_df.shape"
   ]
  },
  {
   "cell_type": "code",
   "execution_count": 43,
   "metadata": {},
   "outputs": [],
   "source": [
    "data, feature_names = get_log_representation.get_representation(sim_event_log, str_ev_attr=[\"case:concept:name\", \"concept:name\"],\n",
    "                                                                str_tr_attr=[], num_ev_attr=[], num_tr_attr=[],\n",
    "                                                                str_evsucc_attr=[\"case:concept:name\", \"concept:name\"])"
   ]
  },
  {
   "cell_type": "code",
   "execution_count": 45,
   "metadata": {},
   "outputs": [],
   "source": [
    "test_df2 = pd.DataFrame(data, columns = feature_names)"
   ]
  },
  {
   "cell_type": "code",
   "execution_count": 46,
   "metadata": {},
   "outputs": [
    {
     "data": {
      "text/html": [
       "<div>\n",
       "<style scoped>\n",
       "    .dataframe tbody tr th:only-of-type {\n",
       "        vertical-align: middle;\n",
       "    }\n",
       "\n",
       "    .dataframe tbody tr th {\n",
       "        vertical-align: top;\n",
       "    }\n",
       "\n",
       "    .dataframe thead th {\n",
       "        text-align: right;\n",
       "    }\n",
       "</style>\n",
       "<table border=\"1\" class=\"dataframe\">\n",
       "  <thead>\n",
       "    <tr style=\"text-align: right;\">\n",
       "      <th></th>\n",
       "      <th>event:case:concept:name@UNDEFINED</th>\n",
       "      <th>event:concept:name@a</th>\n",
       "      <th>event:concept:name@a_approval</th>\n",
       "      <th>event:concept:name@b</th>\n",
       "      <th>event:concept:name@b_approval</th>\n",
       "      <th>event:concept:name@bypass</th>\n",
       "      <th>event:concept:name@c</th>\n",
       "      <th>event:concept:name@d</th>\n",
       "      <th>event:concept:name@e</th>\n",
       "      <th>event:concept:name@end</th>\n",
       "      <th>...</th>\n",
       "      <th>succession:concept:name@bypass#end</th>\n",
       "      <th>succession:concept:name@c#a_approval</th>\n",
       "      <th>succession:concept:name@c#end</th>\n",
       "      <th>succession:concept:name@d#e</th>\n",
       "      <th>succession:concept:name@e#b_approval</th>\n",
       "      <th>succession:concept:name@e#end</th>\n",
       "      <th>succession:concept:name@f#f_approval</th>\n",
       "      <th>succession:concept:name@f_approval#end</th>\n",
       "      <th>succession:concept:name@start#a</th>\n",
       "      <th>succession:concept:name@start#bypass</th>\n",
       "    </tr>\n",
       "  </thead>\n",
       "  <tbody>\n",
       "    <tr>\n",
       "      <th>0</th>\n",
       "      <td>1</td>\n",
       "      <td>1</td>\n",
       "      <td>0</td>\n",
       "      <td>0</td>\n",
       "      <td>1</td>\n",
       "      <td>0</td>\n",
       "      <td>0</td>\n",
       "      <td>1</td>\n",
       "      <td>1</td>\n",
       "      <td>1</td>\n",
       "      <td>...</td>\n",
       "      <td>0</td>\n",
       "      <td>0</td>\n",
       "      <td>0</td>\n",
       "      <td>1</td>\n",
       "      <td>1</td>\n",
       "      <td>0</td>\n",
       "      <td>0</td>\n",
       "      <td>0</td>\n",
       "      <td>1</td>\n",
       "      <td>0</td>\n",
       "    </tr>\n",
       "    <tr>\n",
       "      <th>1</th>\n",
       "      <td>1</td>\n",
       "      <td>1</td>\n",
       "      <td>0</td>\n",
       "      <td>0</td>\n",
       "      <td>0</td>\n",
       "      <td>0</td>\n",
       "      <td>0</td>\n",
       "      <td>0</td>\n",
       "      <td>0</td>\n",
       "      <td>1</td>\n",
       "      <td>...</td>\n",
       "      <td>0</td>\n",
       "      <td>0</td>\n",
       "      <td>0</td>\n",
       "      <td>0</td>\n",
       "      <td>0</td>\n",
       "      <td>0</td>\n",
       "      <td>1</td>\n",
       "      <td>1</td>\n",
       "      <td>1</td>\n",
       "      <td>0</td>\n",
       "    </tr>\n",
       "    <tr>\n",
       "      <th>2</th>\n",
       "      <td>1</td>\n",
       "      <td>1</td>\n",
       "      <td>0</td>\n",
       "      <td>0</td>\n",
       "      <td>0</td>\n",
       "      <td>0</td>\n",
       "      <td>0</td>\n",
       "      <td>1</td>\n",
       "      <td>1</td>\n",
       "      <td>1</td>\n",
       "      <td>...</td>\n",
       "      <td>0</td>\n",
       "      <td>0</td>\n",
       "      <td>0</td>\n",
       "      <td>1</td>\n",
       "      <td>0</td>\n",
       "      <td>1</td>\n",
       "      <td>0</td>\n",
       "      <td>0</td>\n",
       "      <td>1</td>\n",
       "      <td>0</td>\n",
       "    </tr>\n",
       "    <tr>\n",
       "      <th>3</th>\n",
       "      <td>1</td>\n",
       "      <td>1</td>\n",
       "      <td>0</td>\n",
       "      <td>0</td>\n",
       "      <td>0</td>\n",
       "      <td>0</td>\n",
       "      <td>0</td>\n",
       "      <td>1</td>\n",
       "      <td>1</td>\n",
       "      <td>1</td>\n",
       "      <td>...</td>\n",
       "      <td>0</td>\n",
       "      <td>0</td>\n",
       "      <td>0</td>\n",
       "      <td>1</td>\n",
       "      <td>0</td>\n",
       "      <td>1</td>\n",
       "      <td>0</td>\n",
       "      <td>0</td>\n",
       "      <td>1</td>\n",
       "      <td>0</td>\n",
       "    </tr>\n",
       "    <tr>\n",
       "      <th>4</th>\n",
       "      <td>1</td>\n",
       "      <td>1</td>\n",
       "      <td>1</td>\n",
       "      <td>1</td>\n",
       "      <td>0</td>\n",
       "      <td>0</td>\n",
       "      <td>1</td>\n",
       "      <td>0</td>\n",
       "      <td>0</td>\n",
       "      <td>1</td>\n",
       "      <td>...</td>\n",
       "      <td>0</td>\n",
       "      <td>1</td>\n",
       "      <td>0</td>\n",
       "      <td>0</td>\n",
       "      <td>0</td>\n",
       "      <td>0</td>\n",
       "      <td>0</td>\n",
       "      <td>0</td>\n",
       "      <td>1</td>\n",
       "      <td>0</td>\n",
       "    </tr>\n",
       "  </tbody>\n",
       "</table>\n",
       "<p>5 rows × 30 columns</p>\n",
       "</div>"
      ],
      "text/plain": [
       "   event:case:concept:name@UNDEFINED  event:concept:name@a  \\\n",
       "0                                  1                     1   \n",
       "1                                  1                     1   \n",
       "2                                  1                     1   \n",
       "3                                  1                     1   \n",
       "4                                  1                     1   \n",
       "\n",
       "   event:concept:name@a_approval  event:concept:name@b  \\\n",
       "0                              0                     0   \n",
       "1                              0                     0   \n",
       "2                              0                     0   \n",
       "3                              0                     0   \n",
       "4                              1                     1   \n",
       "\n",
       "   event:concept:name@b_approval  event:concept:name@bypass  \\\n",
       "0                              1                          0   \n",
       "1                              0                          0   \n",
       "2                              0                          0   \n",
       "3                              0                          0   \n",
       "4                              0                          0   \n",
       "\n",
       "   event:concept:name@c  event:concept:name@d  event:concept:name@e  \\\n",
       "0                     0                     1                     1   \n",
       "1                     0                     0                     0   \n",
       "2                     0                     1                     1   \n",
       "3                     0                     1                     1   \n",
       "4                     1                     0                     0   \n",
       "\n",
       "   event:concept:name@end  ...  succession:concept:name@bypass#end  \\\n",
       "0                       1  ...                                   0   \n",
       "1                       1  ...                                   0   \n",
       "2                       1  ...                                   0   \n",
       "3                       1  ...                                   0   \n",
       "4                       1  ...                                   0   \n",
       "\n",
       "   succession:concept:name@c#a_approval  succession:concept:name@c#end  \\\n",
       "0                                     0                              0   \n",
       "1                                     0                              0   \n",
       "2                                     0                              0   \n",
       "3                                     0                              0   \n",
       "4                                     1                              0   \n",
       "\n",
       "   succession:concept:name@d#e  succession:concept:name@e#b_approval  \\\n",
       "0                            1                                     1   \n",
       "1                            0                                     0   \n",
       "2                            1                                     0   \n",
       "3                            1                                     0   \n",
       "4                            0                                     0   \n",
       "\n",
       "   succession:concept:name@e#end  succession:concept:name@f#f_approval  \\\n",
       "0                              0                                     0   \n",
       "1                              0                                     1   \n",
       "2                              1                                     0   \n",
       "3                              1                                     0   \n",
       "4                              0                                     0   \n",
       "\n",
       "   succession:concept:name@f_approval#end  succession:concept:name@start#a  \\\n",
       "0                                       0                                1   \n",
       "1                                       1                                1   \n",
       "2                                       0                                1   \n",
       "3                                       0                                1   \n",
       "4                                       0                                1   \n",
       "\n",
       "   succession:concept:name@start#bypass  \n",
       "0                                     0  \n",
       "1                                     0  \n",
       "2                                     0  \n",
       "3                                     0  \n",
       "4                                     0  \n",
       "\n",
       "[5 rows x 30 columns]"
      ]
     },
     "execution_count": 46,
     "metadata": {},
     "output_type": "execute_result"
    }
   ],
   "source": [
    "test_df2.head()"
   ]
  },
  {
   "cell_type": "code",
   "execution_count": 52,
   "metadata": {},
   "outputs": [],
   "source": [
    "from sklearn.decomposition import PCA"
   ]
  },
  {
   "cell_type": "code",
   "execution_count": 64,
   "metadata": {},
   "outputs": [],
   "source": [
    "pca = PCA(n_components = 5)"
   ]
  },
  {
   "cell_type": "code",
   "execution_count": 65,
   "metadata": {},
   "outputs": [],
   "source": [
    "test_df3 = pd.DataFrame(pca.fit_transform(test_df2))"
   ]
  },
  {
   "cell_type": "code",
   "execution_count": 47,
   "metadata": {},
   "outputs": [],
   "source": [
    "from sklearn.ensemble import IsolationForest"
   ]
  },
  {
   "cell_type": "code",
   "execution_count": 66,
   "metadata": {},
   "outputs": [],
   "source": [
    "model = IsolationForest()"
   ]
  },
  {
   "cell_type": "code",
   "execution_count": 71,
   "metadata": {},
   "outputs": [
    {
     "data": {
      "text/plain": [
       "IsolationForest(behaviour='deprecated', bootstrap=False, contamination='auto',\n",
       "                max_features=1.0, max_samples='auto', n_estimators=100,\n",
       "                n_jobs=None, random_state=None, verbose=0, warm_start=False)"
      ]
     },
     "execution_count": 71,
     "metadata": {},
     "output_type": "execute_result"
    }
   ],
   "source": [
    "model.fit(test_df2)"
   ]
  },
  {
   "cell_type": "code",
   "execution_count": 72,
   "metadata": {},
   "outputs": [],
   "source": [
    "test_df2['scores'] = model.decision_function(test_df2)"
   ]
  },
  {
   "cell_type": "code",
   "execution_count": 69,
   "metadata": {},
   "outputs": [],
   "source": [
    "test_df3['@@index'] = test_df3.index\n",
    "test_df3 = test_df3[['scores','@@index']]\n",
    "test_df3 = test_df3.sort_values('scores')"
   ]
  },
  {
   "cell_type": "code",
   "execution_count": 75,
   "metadata": {},
   "outputs": [],
   "source": [
    "test_df2 = test_df2.sort_values('scores')"
   ]
  },
  {
   "cell_type": "code",
   "execution_count": 77,
   "metadata": {},
   "outputs": [
    {
     "data": {
      "text/html": [
       "<div>\n",
       "<style scoped>\n",
       "    .dataframe tbody tr th:only-of-type {\n",
       "        vertical-align: middle;\n",
       "    }\n",
       "\n",
       "    .dataframe tbody tr th {\n",
       "        vertical-align: top;\n",
       "    }\n",
       "\n",
       "    .dataframe thead th {\n",
       "        text-align: right;\n",
       "    }\n",
       "</style>\n",
       "<table border=\"1\" class=\"dataframe\">\n",
       "  <thead>\n",
       "    <tr style=\"text-align: right;\">\n",
       "      <th></th>\n",
       "      <th>event:case:concept:name@UNDEFINED</th>\n",
       "      <th>event:concept:name@a</th>\n",
       "      <th>event:concept:name@a_approval</th>\n",
       "      <th>event:concept:name@b</th>\n",
       "      <th>event:concept:name@b_approval</th>\n",
       "      <th>event:concept:name@bypass</th>\n",
       "      <th>event:concept:name@c</th>\n",
       "      <th>event:concept:name@d</th>\n",
       "      <th>event:concept:name@e</th>\n",
       "      <th>event:concept:name@end</th>\n",
       "      <th>...</th>\n",
       "      <th>succession:concept:name@c#a_approval</th>\n",
       "      <th>succession:concept:name@c#end</th>\n",
       "      <th>succession:concept:name@d#e</th>\n",
       "      <th>succession:concept:name@e#b_approval</th>\n",
       "      <th>succession:concept:name@e#end</th>\n",
       "      <th>succession:concept:name@f#f_approval</th>\n",
       "      <th>succession:concept:name@f_approval#end</th>\n",
       "      <th>succession:concept:name@start#a</th>\n",
       "      <th>succession:concept:name@start#bypass</th>\n",
       "      <th>scores</th>\n",
       "    </tr>\n",
       "  </thead>\n",
       "  <tbody>\n",
       "    <tr>\n",
       "      <th>5671</th>\n",
       "      <td>1</td>\n",
       "      <td>1</td>\n",
       "      <td>1</td>\n",
       "      <td>1</td>\n",
       "      <td>0</td>\n",
       "      <td>0</td>\n",
       "      <td>1</td>\n",
       "      <td>0</td>\n",
       "      <td>0</td>\n",
       "      <td>1</td>\n",
       "      <td>...</td>\n",
       "      <td>1</td>\n",
       "      <td>0</td>\n",
       "      <td>0</td>\n",
       "      <td>0</td>\n",
       "      <td>0</td>\n",
       "      <td>0</td>\n",
       "      <td>0</td>\n",
       "      <td>1</td>\n",
       "      <td>0</td>\n",
       "      <td>-0.108262</td>\n",
       "    </tr>\n",
       "    <tr>\n",
       "      <th>5217</th>\n",
       "      <td>1</td>\n",
       "      <td>1</td>\n",
       "      <td>1</td>\n",
       "      <td>1</td>\n",
       "      <td>0</td>\n",
       "      <td>0</td>\n",
       "      <td>1</td>\n",
       "      <td>0</td>\n",
       "      <td>0</td>\n",
       "      <td>1</td>\n",
       "      <td>...</td>\n",
       "      <td>1</td>\n",
       "      <td>0</td>\n",
       "      <td>0</td>\n",
       "      <td>0</td>\n",
       "      <td>0</td>\n",
       "      <td>0</td>\n",
       "      <td>0</td>\n",
       "      <td>1</td>\n",
       "      <td>0</td>\n",
       "      <td>-0.108262</td>\n",
       "    </tr>\n",
       "    <tr>\n",
       "      <th>5166</th>\n",
       "      <td>1</td>\n",
       "      <td>1</td>\n",
       "      <td>1</td>\n",
       "      <td>1</td>\n",
       "      <td>0</td>\n",
       "      <td>0</td>\n",
       "      <td>1</td>\n",
       "      <td>0</td>\n",
       "      <td>0</td>\n",
       "      <td>1</td>\n",
       "      <td>...</td>\n",
       "      <td>1</td>\n",
       "      <td>0</td>\n",
       "      <td>0</td>\n",
       "      <td>0</td>\n",
       "      <td>0</td>\n",
       "      <td>0</td>\n",
       "      <td>0</td>\n",
       "      <td>1</td>\n",
       "      <td>0</td>\n",
       "      <td>-0.108262</td>\n",
       "    </tr>\n",
       "    <tr>\n",
       "      <th>749</th>\n",
       "      <td>1</td>\n",
       "      <td>1</td>\n",
       "      <td>1</td>\n",
       "      <td>1</td>\n",
       "      <td>0</td>\n",
       "      <td>0</td>\n",
       "      <td>1</td>\n",
       "      <td>0</td>\n",
       "      <td>0</td>\n",
       "      <td>1</td>\n",
       "      <td>...</td>\n",
       "      <td>1</td>\n",
       "      <td>0</td>\n",
       "      <td>0</td>\n",
       "      <td>0</td>\n",
       "      <td>0</td>\n",
       "      <td>0</td>\n",
       "      <td>0</td>\n",
       "      <td>1</td>\n",
       "      <td>0</td>\n",
       "      <td>-0.108262</td>\n",
       "    </tr>\n",
       "    <tr>\n",
       "      <th>5125</th>\n",
       "      <td>1</td>\n",
       "      <td>1</td>\n",
       "      <td>1</td>\n",
       "      <td>1</td>\n",
       "      <td>0</td>\n",
       "      <td>0</td>\n",
       "      <td>1</td>\n",
       "      <td>0</td>\n",
       "      <td>0</td>\n",
       "      <td>1</td>\n",
       "      <td>...</td>\n",
       "      <td>1</td>\n",
       "      <td>0</td>\n",
       "      <td>0</td>\n",
       "      <td>0</td>\n",
       "      <td>0</td>\n",
       "      <td>0</td>\n",
       "      <td>0</td>\n",
       "      <td>1</td>\n",
       "      <td>0</td>\n",
       "      <td>-0.108262</td>\n",
       "    </tr>\n",
       "    <tr>\n",
       "      <th>5118</th>\n",
       "      <td>1</td>\n",
       "      <td>1</td>\n",
       "      <td>1</td>\n",
       "      <td>1</td>\n",
       "      <td>0</td>\n",
       "      <td>0</td>\n",
       "      <td>1</td>\n",
       "      <td>0</td>\n",
       "      <td>0</td>\n",
       "      <td>1</td>\n",
       "      <td>...</td>\n",
       "      <td>1</td>\n",
       "      <td>0</td>\n",
       "      <td>0</td>\n",
       "      <td>0</td>\n",
       "      <td>0</td>\n",
       "      <td>0</td>\n",
       "      <td>0</td>\n",
       "      <td>1</td>\n",
       "      <td>0</td>\n",
       "      <td>-0.108262</td>\n",
       "    </tr>\n",
       "    <tr>\n",
       "      <th>5096</th>\n",
       "      <td>1</td>\n",
       "      <td>1</td>\n",
       "      <td>1</td>\n",
       "      <td>1</td>\n",
       "      <td>0</td>\n",
       "      <td>0</td>\n",
       "      <td>1</td>\n",
       "      <td>0</td>\n",
       "      <td>0</td>\n",
       "      <td>1</td>\n",
       "      <td>...</td>\n",
       "      <td>1</td>\n",
       "      <td>0</td>\n",
       "      <td>0</td>\n",
       "      <td>0</td>\n",
       "      <td>0</td>\n",
       "      <td>0</td>\n",
       "      <td>0</td>\n",
       "      <td>1</td>\n",
       "      <td>0</td>\n",
       "      <td>-0.108262</td>\n",
       "    </tr>\n",
       "    <tr>\n",
       "      <th>5086</th>\n",
       "      <td>1</td>\n",
       "      <td>1</td>\n",
       "      <td>1</td>\n",
       "      <td>1</td>\n",
       "      <td>0</td>\n",
       "      <td>0</td>\n",
       "      <td>1</td>\n",
       "      <td>0</td>\n",
       "      <td>0</td>\n",
       "      <td>1</td>\n",
       "      <td>...</td>\n",
       "      <td>1</td>\n",
       "      <td>0</td>\n",
       "      <td>0</td>\n",
       "      <td>0</td>\n",
       "      <td>0</td>\n",
       "      <td>0</td>\n",
       "      <td>0</td>\n",
       "      <td>1</td>\n",
       "      <td>0</td>\n",
       "      <td>-0.108262</td>\n",
       "    </tr>\n",
       "    <tr>\n",
       "      <th>5077</th>\n",
       "      <td>1</td>\n",
       "      <td>1</td>\n",
       "      <td>1</td>\n",
       "      <td>1</td>\n",
       "      <td>0</td>\n",
       "      <td>0</td>\n",
       "      <td>1</td>\n",
       "      <td>0</td>\n",
       "      <td>0</td>\n",
       "      <td>1</td>\n",
       "      <td>...</td>\n",
       "      <td>1</td>\n",
       "      <td>0</td>\n",
       "      <td>0</td>\n",
       "      <td>0</td>\n",
       "      <td>0</td>\n",
       "      <td>0</td>\n",
       "      <td>0</td>\n",
       "      <td>1</td>\n",
       "      <td>0</td>\n",
       "      <td>-0.108262</td>\n",
       "    </tr>\n",
       "    <tr>\n",
       "      <th>5074</th>\n",
       "      <td>1</td>\n",
       "      <td>1</td>\n",
       "      <td>1</td>\n",
       "      <td>1</td>\n",
       "      <td>0</td>\n",
       "      <td>0</td>\n",
       "      <td>1</td>\n",
       "      <td>0</td>\n",
       "      <td>0</td>\n",
       "      <td>1</td>\n",
       "      <td>...</td>\n",
       "      <td>1</td>\n",
       "      <td>0</td>\n",
       "      <td>0</td>\n",
       "      <td>0</td>\n",
       "      <td>0</td>\n",
       "      <td>0</td>\n",
       "      <td>0</td>\n",
       "      <td>1</td>\n",
       "      <td>0</td>\n",
       "      <td>-0.108262</td>\n",
       "    </tr>\n",
       "  </tbody>\n",
       "</table>\n",
       "<p>10 rows × 31 columns</p>\n",
       "</div>"
      ],
      "text/plain": [
       "      event:case:concept:name@UNDEFINED  event:concept:name@a  \\\n",
       "5671                                  1                     1   \n",
       "5217                                  1                     1   \n",
       "5166                                  1                     1   \n",
       "749                                   1                     1   \n",
       "5125                                  1                     1   \n",
       "5118                                  1                     1   \n",
       "5096                                  1                     1   \n",
       "5086                                  1                     1   \n",
       "5077                                  1                     1   \n",
       "5074                                  1                     1   \n",
       "\n",
       "      event:concept:name@a_approval  event:concept:name@b  \\\n",
       "5671                              1                     1   \n",
       "5217                              1                     1   \n",
       "5166                              1                     1   \n",
       "749                               1                     1   \n",
       "5125                              1                     1   \n",
       "5118                              1                     1   \n",
       "5096                              1                     1   \n",
       "5086                              1                     1   \n",
       "5077                              1                     1   \n",
       "5074                              1                     1   \n",
       "\n",
       "      event:concept:name@b_approval  event:concept:name@bypass  \\\n",
       "5671                              0                          0   \n",
       "5217                              0                          0   \n",
       "5166                              0                          0   \n",
       "749                               0                          0   \n",
       "5125                              0                          0   \n",
       "5118                              0                          0   \n",
       "5096                              0                          0   \n",
       "5086                              0                          0   \n",
       "5077                              0                          0   \n",
       "5074                              0                          0   \n",
       "\n",
       "      event:concept:name@c  event:concept:name@d  event:concept:name@e  \\\n",
       "5671                     1                     0                     0   \n",
       "5217                     1                     0                     0   \n",
       "5166                     1                     0                     0   \n",
       "749                      1                     0                     0   \n",
       "5125                     1                     0                     0   \n",
       "5118                     1                     0                     0   \n",
       "5096                     1                     0                     0   \n",
       "5086                     1                     0                     0   \n",
       "5077                     1                     0                     0   \n",
       "5074                     1                     0                     0   \n",
       "\n",
       "      event:concept:name@end  ...  succession:concept:name@c#a_approval  \\\n",
       "5671                       1  ...                                     1   \n",
       "5217                       1  ...                                     1   \n",
       "5166                       1  ...                                     1   \n",
       "749                        1  ...                                     1   \n",
       "5125                       1  ...                                     1   \n",
       "5118                       1  ...                                     1   \n",
       "5096                       1  ...                                     1   \n",
       "5086                       1  ...                                     1   \n",
       "5077                       1  ...                                     1   \n",
       "5074                       1  ...                                     1   \n",
       "\n",
       "      succession:concept:name@c#end  succession:concept:name@d#e  \\\n",
       "5671                              0                            0   \n",
       "5217                              0                            0   \n",
       "5166                              0                            0   \n",
       "749                               0                            0   \n",
       "5125                              0                            0   \n",
       "5118                              0                            0   \n",
       "5096                              0                            0   \n",
       "5086                              0                            0   \n",
       "5077                              0                            0   \n",
       "5074                              0                            0   \n",
       "\n",
       "      succession:concept:name@e#b_approval  succession:concept:name@e#end  \\\n",
       "5671                                     0                              0   \n",
       "5217                                     0                              0   \n",
       "5166                                     0                              0   \n",
       "749                                      0                              0   \n",
       "5125                                     0                              0   \n",
       "5118                                     0                              0   \n",
       "5096                                     0                              0   \n",
       "5086                                     0                              0   \n",
       "5077                                     0                              0   \n",
       "5074                                     0                              0   \n",
       "\n",
       "      succession:concept:name@f#f_approval  \\\n",
       "5671                                     0   \n",
       "5217                                     0   \n",
       "5166                                     0   \n",
       "749                                      0   \n",
       "5125                                     0   \n",
       "5118                                     0   \n",
       "5096                                     0   \n",
       "5086                                     0   \n",
       "5077                                     0   \n",
       "5074                                     0   \n",
       "\n",
       "      succession:concept:name@f_approval#end  succession:concept:name@start#a  \\\n",
       "5671                                       0                                1   \n",
       "5217                                       0                                1   \n",
       "5166                                       0                                1   \n",
       "749                                        0                                1   \n",
       "5125                                       0                                1   \n",
       "5118                                       0                                1   \n",
       "5096                                       0                                1   \n",
       "5086                                       0                                1   \n",
       "5077                                       0                                1   \n",
       "5074                                       0                                1   \n",
       "\n",
       "      succession:concept:name@start#bypass    scores  \n",
       "5671                                     0 -0.108262  \n",
       "5217                                     0 -0.108262  \n",
       "5166                                     0 -0.108262  \n",
       "749                                      0 -0.108262  \n",
       "5125                                     0 -0.108262  \n",
       "5118                                     0 -0.108262  \n",
       "5096                                     0 -0.108262  \n",
       "5086                                     0 -0.108262  \n",
       "5077                                     0 -0.108262  \n",
       "5074                                     0 -0.108262  \n",
       "\n",
       "[10 rows x 31 columns]"
      ]
     },
     "execution_count": 77,
     "metadata": {},
     "output_type": "execute_result"
    }
   ],
   "source": [
    "test_df2.head(10)"
   ]
  },
  {
   "cell_type": "code",
   "execution_count": 80,
   "metadata": {},
   "outputs": [
    {
     "data": {
      "text/html": [
       "<div>\n",
       "<style scoped>\n",
       "    .dataframe tbody tr th:only-of-type {\n",
       "        vertical-align: middle;\n",
       "    }\n",
       "\n",
       "    .dataframe tbody tr th {\n",
       "        vertical-align: top;\n",
       "    }\n",
       "\n",
       "    .dataframe thead th {\n",
       "        text-align: right;\n",
       "    }\n",
       "</style>\n",
       "<table border=\"1\" class=\"dataframe\">\n",
       "  <thead>\n",
       "    <tr style=\"text-align: right;\">\n",
       "      <th></th>\n",
       "      <th>flow_id</th>\n",
       "      <th>event_date</th>\n",
       "      <th>event</th>\n",
       "    </tr>\n",
       "  </thead>\n",
       "  <tbody>\n",
       "    <tr>\n",
       "      <th>29170</th>\n",
       "      <td>5671</td>\n",
       "      <td>2080-11-13 00:00:00+00:00</td>\n",
       "      <td>start</td>\n",
       "    </tr>\n",
       "    <tr>\n",
       "      <th>29171</th>\n",
       "      <td>5671</td>\n",
       "      <td>2080-11-14 00:00:00+00:00</td>\n",
       "      <td>a</td>\n",
       "    </tr>\n",
       "    <tr>\n",
       "      <th>29172</th>\n",
       "      <td>5671</td>\n",
       "      <td>2080-11-15 00:00:00+00:00</td>\n",
       "      <td>b</td>\n",
       "    </tr>\n",
       "    <tr>\n",
       "      <th>29173</th>\n",
       "      <td>5671</td>\n",
       "      <td>2080-11-16 00:00:00+00:00</td>\n",
       "      <td>c</td>\n",
       "    </tr>\n",
       "    <tr>\n",
       "      <th>29174</th>\n",
       "      <td>5671</td>\n",
       "      <td>2080-11-17 00:00:00+00:00</td>\n",
       "      <td>end</td>\n",
       "    </tr>\n",
       "  </tbody>\n",
       "</table>\n",
       "</div>"
      ],
      "text/plain": [
       "       flow_id                event_date  event\n",
       "29170     5671 2080-11-13 00:00:00+00:00  start\n",
       "29171     5671 2080-11-14 00:00:00+00:00      a\n",
       "29172     5671 2080-11-15 00:00:00+00:00      b\n",
       "29173     5671 2080-11-16 00:00:00+00:00      c\n",
       "29174     5671 2080-11-17 00:00:00+00:00    end"
      ]
     },
     "execution_count": 80,
     "metadata": {},
     "output_type": "execute_result"
    }
   ],
   "source": [
    "simulation_df[ simulation_df['flow_id'] == 5671]"
   ]
  },
  {
   "cell_type": "code",
   "execution_count": 81,
   "metadata": {},
   "outputs": [
    {
     "data": {
      "text/html": [
       "<div>\n",
       "<style scoped>\n",
       "    .dataframe tbody tr th:only-of-type {\n",
       "        vertical-align: middle;\n",
       "    }\n",
       "\n",
       "    .dataframe tbody tr th {\n",
       "        vertical-align: top;\n",
       "    }\n",
       "\n",
       "    .dataframe thead th {\n",
       "        text-align: right;\n",
       "    }\n",
       "</style>\n",
       "<table border=\"1\" class=\"dataframe\">\n",
       "  <thead>\n",
       "    <tr style=\"text-align: right;\">\n",
       "      <th></th>\n",
       "      <th>flow_id</th>\n",
       "      <th>event_date</th>\n",
       "      <th>event</th>\n",
       "    </tr>\n",
       "  </thead>\n",
       "  <tbody>\n",
       "    <tr>\n",
       "      <th>0</th>\n",
       "      <td>1</td>\n",
       "      <td>2001-01-02 00:00:00+00:00</td>\n",
       "      <td>start</td>\n",
       "    </tr>\n",
       "    <tr>\n",
       "      <th>1</th>\n",
       "      <td>1</td>\n",
       "      <td>2001-01-03 00:00:00+00:00</td>\n",
       "      <td>a</td>\n",
       "    </tr>\n",
       "    <tr>\n",
       "      <th>2</th>\n",
       "      <td>1</td>\n",
       "      <td>2001-01-04 00:00:00+00:00</td>\n",
       "      <td>d</td>\n",
       "    </tr>\n",
       "    <tr>\n",
       "      <th>3</th>\n",
       "      <td>1</td>\n",
       "      <td>2001-01-05 00:00:00+00:00</td>\n",
       "      <td>e</td>\n",
       "    </tr>\n",
       "    <tr>\n",
       "      <th>4</th>\n",
       "      <td>1</td>\n",
       "      <td>2001-01-06 00:00:00+00:00</td>\n",
       "      <td>b_approval</td>\n",
       "    </tr>\n",
       "    <tr>\n",
       "      <th>...</th>\n",
       "      <td>...</td>\n",
       "      <td>...</td>\n",
       "      <td>...</td>\n",
       "    </tr>\n",
       "    <tr>\n",
       "      <th>95</th>\n",
       "      <td>18</td>\n",
       "      <td>2001-04-07 00:00:00+00:00</td>\n",
       "      <td>end</td>\n",
       "    </tr>\n",
       "    <tr>\n",
       "      <th>96</th>\n",
       "      <td>19</td>\n",
       "      <td>2001-04-08 00:00:00+00:00</td>\n",
       "      <td>start</td>\n",
       "    </tr>\n",
       "    <tr>\n",
       "      <th>97</th>\n",
       "      <td>19</td>\n",
       "      <td>2001-04-09 00:00:00+00:00</td>\n",
       "      <td>a</td>\n",
       "    </tr>\n",
       "    <tr>\n",
       "      <th>98</th>\n",
       "      <td>19</td>\n",
       "      <td>2001-04-10 00:00:00+00:00</td>\n",
       "      <td>b</td>\n",
       "    </tr>\n",
       "    <tr>\n",
       "      <th>99</th>\n",
       "      <td>19</td>\n",
       "      <td>2001-04-11 00:00:00+00:00</td>\n",
       "      <td>c</td>\n",
       "    </tr>\n",
       "  </tbody>\n",
       "</table>\n",
       "<p>100 rows × 3 columns</p>\n",
       "</div>"
      ],
      "text/plain": [
       "    flow_id                event_date       event\n",
       "0         1 2001-01-02 00:00:00+00:00       start\n",
       "1         1 2001-01-03 00:00:00+00:00           a\n",
       "2         1 2001-01-04 00:00:00+00:00           d\n",
       "3         1 2001-01-05 00:00:00+00:00           e\n",
       "4         1 2001-01-06 00:00:00+00:00  b_approval\n",
       "..      ...                       ...         ...\n",
       "95       18 2001-04-07 00:00:00+00:00         end\n",
       "96       19 2001-04-08 00:00:00+00:00       start\n",
       "97       19 2001-04-09 00:00:00+00:00           a\n",
       "98       19 2001-04-10 00:00:00+00:00           b\n",
       "99       19 2001-04-11 00:00:00+00:00           c\n",
       "\n",
       "[100 rows x 3 columns]"
      ]
     },
     "execution_count": 81,
     "metadata": {},
     "output_type": "execute_result"
    }
   ],
   "source": [
    "simulation_df.head(100)"
   ]
  }
 ],
 "metadata": {
  "kernelspec": {
   "display_name": "conda_python3",
   "language": "python",
   "name": "conda_python3"
  },
  "language_info": {
   "codemirror_mode": {
    "name": "ipython",
    "version": 3
   },
   "file_extension": ".py",
   "mimetype": "text/x-python",
   "name": "python",
   "nbconvert_exporter": "python",
   "pygments_lexer": "ipython3",
   "version": "3.6.10"
  }
 },
 "nbformat": 4,
 "nbformat_minor": 4
}
