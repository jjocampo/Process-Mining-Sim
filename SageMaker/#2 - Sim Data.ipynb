{
 "cells": [
  {
   "cell_type": "markdown",
   "metadata": {},
   "source": [
    "# 2 - Simulating Process Data  "
   ]
  },
  {
   "cell_type": "markdown",
   "metadata": {},
   "source": [
    "Create a simple algorithm to simulate a process for analysis with pm4py.  \n",
    "\n",
    "-----"
   ]
  },
  {
   "cell_type": "code",
   "execution_count": 113,
   "metadata": {},
   "outputs": [],
   "source": [
    "import random\n",
    "from datetime import datetime, timedelta"
   ]
  },
  {
   "cell_type": "markdown",
   "metadata": {},
   "source": [
    "<b>Create scenarios</b>"
   ]
  },
  {
   "cell_type": "code",
   "execution_count": 89,
   "metadata": {},
   "outputs": [],
   "source": [
    "process_scenarios = {\n",
    "                    \"a\": ['start','a','b','c','end'], # 40 percent\n",
    "                    \"b\": ['start','a','d','e','end'], # 40 percent\n",
    "                    \"c\": ['start','a','b','c','a_approval','end'], # 7 percent\n",
    "                    \"d\": ['start','a','d','e','b_approval','end'], # 7 percent \n",
    "                    \"e\": ['start','a','f','f_approval','end'], # 5 percent\n",
    "                    \"f\": ['start','a','g','end'] # 1 percent\n",
    "                    }"
   ]
  },
  {
   "cell_type": "code",
   "execution_count": 83,
   "metadata": {},
   "outputs": [],
   "source": [
    "process_start_date = '2007-02-15'"
   ]
  },
  {
   "cell_type": "code",
   "execution_count": 81,
   "metadata": {},
   "outputs": [
    {
     "data": {
      "text/plain": [
       "2"
      ]
     },
     "execution_count": 81,
     "metadata": {},
     "output_type": "execute_result"
    }
   ],
   "source": [
    "int( round( random.random() * 100 , 2))"
   ]
  },
  {
   "cell_type": "code",
   "execution_count": 85,
   "metadata": {},
   "outputs": [],
   "source": [
    "def get_action_date(f_days):\n",
    "    process_start_date = datetime(2007,2,15)\n",
    "    return process_start_date + timedelta(f_days)\n",
    "    "
   ]
  },
  {
   "cell_type": "code",
   "execution_count": 96,
   "metadata": {},
   "outputs": [],
   "source": [
    "def get_scenario(f_rand_val, f_scenarios):\n",
    "    tmp_val = ''\n",
    "    tmp_val = f_scenarios['a'] if (f_rand_val <= 40) else tmp_val\n",
    "    tmp_val = f_scenarios['b'] if (f_rand_val > 40 and f_rand_val <= 80) else tmp_val\n",
    "    tmp_val = f_scenarios['c'] if (f_rand_val > 80 and f_rand_val <= 87) else tmp_val\n",
    "    tmp_val = f_scenarios['d'] if (f_rand_val > 87 and f_rand_val <= 94) else tmp_val\n",
    "    tmp_val = f_scenarios['e'] if (f_rand_val > 94 and f_rand_val <= 99) else tmp_val\n",
    "    tmp_val = f_scenarios['f'] if (f_rand_val > 99) else tmp_val\n",
    "    return tmp_val"
   ]
  },
  {
   "cell_type": "code",
   "execution_count": 98,
   "metadata": {},
   "outputs": [],
   "source": [
    "test = [0,40,41,80,81,87,88,94,95,99,100]"
   ]
  },
  {
   "cell_type": "code",
   "execution_count": 101,
   "metadata": {},
   "outputs": [
    {
     "name": "stdout",
     "output_type": "stream",
     "text": [
      "0 = ['start', 'a', 'b', 'c', 'end']\n",
      "40 = ['start', 'a', 'b', 'c', 'end']\n",
      "41 = ['start', 'a', 'd', 'e', 'end']\n",
      "80 = ['start', 'a', 'd', 'e', 'end']\n",
      "81 = ['start', 'a', 'b', 'c', 'a_approval', 'end']\n",
      "87 = ['start', 'a', 'b', 'c', 'a_approval', 'end']\n",
      "88 = ['start', 'a', 'd', 'e', 'b_approval', 'end']\n",
      "94 = ['start', 'a', 'd', 'e', 'b_approval', 'end']\n",
      "95 = ['start', 'a', 'f', 'f_approval', 'end']\n",
      "99 = ['start', 'a', 'f', 'f_approval', 'end']\n",
      "100 = ['start', 'a', 'g', 'end']\n"
     ]
    }
   ],
   "source": [
    "for i in test:\n",
    "    print('{} = {}'.format(i, get_scenario(i,process_scenarios)) ) "
   ]
  },
  {
   "cell_type": "code",
   "execution_count": 110,
   "metadata": {},
   "outputs": [],
   "source": [
    "def simulate_event(flow_id, date_id):\n",
    "    rand_event = int( round( random.random() * 100 , 2))\n",
    "    tmp_date_id = date_id\n",
    "    flow_scenario = get_scenario( flow_id, process_scenarios )\n",
    "    tmp_flow = []\n",
    "    for flow in flow_scenario: \n",
    "        event_date = get_action_date(tmp_date_id)\n",
    "        tmp_date_id += 1\n",
    "        tmp_flow.append([flow_id, event_date.strftime('%m/%d/%Y'), flow])\n",
    "    return tmp_flow, tmp_date_id"
   ]
  },
  {
   "cell_type": "code",
   "execution_count": 111,
   "metadata": {},
   "outputs": [
    {
     "data": {
      "text/plain": [
       "([[1, '02/16/2007', 'start'],\n",
       "  [1, '02/17/2007', 'a'],\n",
       "  [1, '02/18/2007', 'b'],\n",
       "  [1, '02/19/2007', 'c'],\n",
       "  [1, '02/20/2007', 'end']],\n",
       " 6)"
      ]
     },
     "execution_count": 111,
     "metadata": {},
     "output_type": "execute_result"
    }
   ],
   "source": [
    "simulate_event(1,1)"
   ]
  },
  {
   "cell_type": "code",
   "execution_count": 115,
   "metadata": {},
   "outputs": [],
   "source": [
    "date_id = 1\n",
    "flow_id = 1\n",
    "simulation_list = []\n",
    "while date_id < 10:\n",
    "    sim_flow, date_id = simulate_event(flow_id, date_id)\n",
    "    for event in sim_flow:\n",
    "        simulation_list.append(event)\n",
    "    flow_id += 1"
   ]
  },
  {
   "cell_type": "code",
   "execution_count": 117,
   "metadata": {},
   "outputs": [
    {
     "data": {
      "text/plain": [
       "[[1, '02/16/2007', 'start'],\n",
       " [1, '02/17/2007', 'a'],\n",
       " [1, '02/18/2007', 'b'],\n",
       " [1, '02/19/2007', 'c'],\n",
       " [1, '02/20/2007', 'end'],\n",
       " [2, '02/21/2007', 'start'],\n",
       " [2, '02/22/2007', 'a'],\n",
       " [2, '02/23/2007', 'b'],\n",
       " [2, '02/24/2007', 'c'],\n",
       " [2, '02/25/2007', 'end']]"
      ]
     },
     "execution_count": 117,
     "metadata": {},
     "output_type": "execute_result"
    }
   ],
   "source": [
    "simulation_list"
   ]
  }
 ],
 "metadata": {
  "kernelspec": {
   "display_name": "conda_python3",
   "language": "python",
   "name": "conda_python3"
  },
  "language_info": {
   "codemirror_mode": {
    "name": "ipython",
    "version": 3
   },
   "file_extension": ".py",
   "mimetype": "text/x-python",
   "name": "python",
   "nbconvert_exporter": "python",
   "pygments_lexer": "ipython3",
   "version": "3.6.10"
  }
 },
 "nbformat": 4,
 "nbformat_minor": 4
}
